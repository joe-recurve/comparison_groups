{
 "cells": [
  {
   "cell_type": "code",
   "execution_count": 1,
   "metadata": {},
   "outputs": [],
   "source": [
    "# %matplotlib\n",
    "# %matplotlib inline\n",
    "# %matplotlib notebook\n",
    "\n",
    "import pandas as pd\n",
    "import numpy as np\n",
    "import random\n",
    "import os\n",
    "import warnings\n",
    "from datetime import datetime, timedelta, timezone\n",
    "warnings.simplefilter(\"ignore\")\n",
    "import matplotlib.pyplot as plt\n",
    "import matplotlib.gridspec as gridspec\n",
    "from matplotlib.ticker import AutoMinorLocator\n",
    "from matplotlib.ticker import FormatStrFormatter\n",
    "import re\n",
    "import math\n",
    "from copy import deepcopy\n",
    "from numba_stats import t\n",
    "import scipy.stats as stats\n",
    "\n",
    "# Data\n",
    "from gridmeter import Data\n",
    "from gridmeter import Data_Settings\n",
    "\n",
    "# IMM\n",
    "from gridmeter import IMM\n",
    "from gridmeter import IMM_Settings\n",
    "\n",
    "# Clustering\n",
    "from gridmeter import Clustering\n",
    "from gridmeter import Clustering_Settings\n",
    "\n",
    "from IPython.display import Image, Markdown, display\n",
    "plt.ion()\n",
    "plt.rcParams['figure.figsize'] = [24, 16]\n",
    "plt.rcParams['figure.dpi'] = 300\n",
    "\n",
    "# pd.set_option('display.max_rows', None)\n",
    "# pd.set_option('display.max_columns', None)\n",
    "# pd.set_option('display.max_colwidth', None)\n",
    "\n",
    "%load_ext autoreload\n",
    "%autoreload 2"
   ]
  },
  {
   "cell_type": "code",
   "execution_count": 2,
   "metadata": {},
   "outputs": [
    {
     "data": {
      "text/plain": [
       "<gridmeter._utils.data_processing.Data at 0x7f3cbc078a10>"
      ]
     },
     "execution_count": 2,
     "metadata": {},
     "output_type": "execute_result"
    }
   ],
   "source": [
    "df_ls_t = pd.read_csv(\"/app/.recurve_cache/clustering/example_dfs/df_ls_t.csv\")\n",
    "df_ls_cp = pd.read_csv(\"/app/.recurve_cache/clustering/example_dfs/df_ls_cp.csv\")\n",
    "\n",
    "df_ls_t = df_ls_t.rename(columns={\"hour\": \"time\", \"ls\": \"loadshape\"})\n",
    "df_ls_cp = df_ls_cp.rename(columns={\"hour\": \"time\", \"ls\": \"loadshape\"})\n",
    "\n",
    "treatment_data = Data()\n",
    "treatment_data.set_data(df_ls_t)\n",
    "\n",
    "comparison_pool_data = Data()\n",
    "comparison_pool_data.set_data(df_ls_cp)"
   ]
  },
  {
   "cell_type": "code",
   "execution_count": 3,
   "metadata": {},
   "outputs": [
    {
     "data": {
      "text/html": [
       "<div>\n",
       "<style scoped>\n",
       "    .dataframe tbody tr th:only-of-type {\n",
       "        vertical-align: middle;\n",
       "    }\n",
       "\n",
       "    .dataframe tbody tr th {\n",
       "        vertical-align: top;\n",
       "    }\n",
       "\n",
       "    .dataframe thead th {\n",
       "        text-align: right;\n",
       "    }\n",
       "</style>\n",
       "<table border=\"1\" class=\"dataframe\">\n",
       "  <thead>\n",
       "    <tr style=\"text-align: right;\">\n",
       "      <th></th>\n",
       "      <th>id</th>\n",
       "      <th>reason</th>\n",
       "    </tr>\n",
       "  </thead>\n",
       "  <tbody>\n",
       "    <tr>\n",
       "      <th>0</th>\n",
       "      <td>id1</td>\n",
       "      <td>null values in features_df</td>\n",
       "    </tr>\n",
       "  </tbody>\n",
       "</table>\n",
       "</div>"
      ],
      "text/plain": [
       "    id                      reason\n",
       "0  id1  null values in features_df"
      ]
     },
     "execution_count": 3,
     "metadata": {},
     "output_type": "execute_result"
    }
   ],
   "source": [
    "# Test Data with ts input\n",
    "\n",
    "# Create a testing dataframe having an id, datetime of 15 min intervals, observed and modeled values \n",
    "num_intervals = 4 * 24 * 365  # 4 intervals/hour * 24 hours/day * 365 days\n",
    "\n",
    "# Create a DataFrame with 'id', 'datetime', 'observed', and 'modeled' columns\n",
    "df = pd.DataFrame({\n",
    "    'id': np.repeat(['id1', 'id2', 'id3'], num_intervals),  # only 3 ids for easier comparison\n",
    "    'datetime': pd.date_range(start='2023-01-01', periods=num_intervals, freq='15T').tolist() * 3, \n",
    "    'observed': np.random.rand(num_intervals * 3),  # randomized\n",
    "    'modeled': np.random.rand(num_intervals * 3)  # randomized\n",
    "})\n",
    "\n",
    "df_features = pd.DataFrame({\n",
    "    'id': ['id1', 'id2', 'id3'],  # only 3 ids for easier comparison\n",
    "    'feature1': np.random.rand(3),  # randomized\n",
    "    'feature2': [None, *np.random.rand(2)]  # randomized\n",
    "    # 'feature2': *np.random.rand(3)  # randomized\n",
    "})\n",
    "\n",
    "data = Data()\n",
    "data.set_data(time_series_df=df, features_df=df_features)\n",
    "data.loadshape\n",
    "# data.features\n",
    "data.excluded_ids"
   ]
  },
  {
   "cell_type": "code",
   "execution_count": 4,
   "metadata": {},
   "outputs": [],
   "source": [
    "# Test IMM\n",
    "\n",
    "imm_settings = IMM_Settings()\n",
    "df_cg, df_t_coeffs = IMM(imm_settings).get_comparison_group(treatment_data, comparison_pool_data)"
   ]
  },
  {
   "cell_type": "code",
   "execution_count": 5,
   "metadata": {},
   "outputs": [],
   "source": [
    "from gridmeter._utils.calculate_distances import calculate_distances\n",
    "from copy import deepcopy as copy\n",
    "\n",
    "def TestDistanceMatching(\n",
    "    df_ls_t,\n",
    "    df_ls_c,\n",
    "    n_matches_per_treatment=4,\n",
    "    distance_metric=\"euclidean\",\n",
    "    allow_duplicate_match=True,\n",
    "    replace_duplicate_method=None,  # currently unused [None, \"closest_to_meter\", \"closest_global\"]\n",
    "    max_distance_threshold=None,\n",
    "    n_match_multiplier=None,\n",
    "    n_meters_per_chunk=10000,\n",
    "):\n",
    "    ls_t = df_ls_t.to_numpy()\n",
    "    ls_cp = df_ls_c.to_numpy()\n",
    "\n",
    "    n_matches_per_chunk = copy(n_matches_per_treatment)\n",
    "\n",
    "    # Calculate closest distances\n",
    "    if n_match_multiplier is None:\n",
    "        n_matches_per_chunk = None\n",
    "\n",
    "    if n_match_multiplier is not None:\n",
    "        if (not allow_duplicate_match and replace_duplicate_method is not None) or max_distance_threshold is not None:\n",
    "            n_matches_per_chunk *= n_match_multiplier\n",
    "\n",
    "        if n_matches_per_chunk > ls_cp.shape[0]:\n",
    "            n_matches_per_chunk = ls_cp.shape[0]\n",
    "\n",
    "    cp_id_idx, dist = calculate_distances(\n",
    "        ls_t, ls_cp, distance_metric, n_matches_per_chunk, n_meters_per_chunk\n",
    "    )\n",
    "\n",
    "    print(dist.shape)\n",
    "    print(cp_id_idx.shape)\n",
    "\n",
    "    # create dataframes\n",
    "    id_t = df_ls_t.index.values\n",
    "    id_c = df_ls_c.index.values\n",
    "\n",
    "    print(np.repeat(id_t, dist.shape[1]))\n",
    "\n",
    "    series_t = pd.Series(np.repeat(id_t, dist.shape[1]), name=\"treatment\")\n",
    "    series_cp = pd.Series(id_c[cp_id_idx.flatten()], name=\"id\")\n",
    "    clusters = pd.DataFrame(\n",
    "        dist.flatten(), index=[series_t, series_cp], columns=[\"distance\"]\n",
    "    )\n",
    "    clusters = clusters.reset_index()\n",
    "    clusters[\"duplicated\"] = clusters.duplicated(subset=[\"id\"])\n",
    "    clusters[\"cluster\"] = 1\n",
    "    clusters = clusters.set_index(\"id\")\n",
    "    \n",
    "    if allow_duplicate_match:\n",
    "        clusters = clusters.sort_values(by=[\"treatment\", \"distance\"])\n",
    "\n",
    "        # for each index, get 4 smallest distances\n",
    "        clusters = clusters.groupby(\"treatment\").head(n_matches_per_treatment)\n",
    "\n",
    "    else:\n",
    "        # get count of treatment and id pairs\n",
    "        # t_id_counts = clusters.groupby([\"treatment\", \"id\"]).size()\n",
    "        # print(t_id_counts)\n",
    "\n",
    "        # drop duplicate index\n",
    "        clusters = clusters[~clusters.index.duplicated(keep='first')]\n",
    "\n",
    "        if replace_duplicate_method is not None:\n",
    "            raise NotImplementedError(\n",
    "                \"'replace_duplicate_meters': True not implemented\"\n",
    "            )\n",
    "\n",
    "    return clusters\n",
    "\n",
    "\n",
    "def get_comparison_group(df_ls_t, df_ls_cp, weights=None, **kwargs):\n",
    "    df_cg = TestDistanceMatching(df_ls_t, df_ls_cp, **kwargs)\n",
    "\n",
    "    # Create df_t_coeffs\n",
    "    t_ids = df_ls_t.index.unique()\n",
    "    coeffs = np.ones(t_ids.values.size)\n",
    "\n",
    "    df_t_coeffs = pd.DataFrame(coeffs, index=t_ids, columns=[\"pct_cluster_1\"])\n",
    "    df_t_coeffs.index.name = \"id\"\n",
    "\n",
    "    return df_cg, df_t_coeffs"
   ]
  },
  {
   "cell_type": "code",
   "execution_count": 6,
   "metadata": {},
   "outputs": [
    {
     "ename": "NameError",
     "evalue": "name 'df_ls_t_mod' is not defined",
     "output_type": "error",
     "traceback": [
      "\u001b[0;31m---------------------------------------------------------------------------\u001b[0m",
      "\u001b[0;31mNameError\u001b[0m                                 Traceback (most recent call last)",
      "\u001b[1;32m/app/applied_data_science/gridmeter/gridmeter/gridmeter/scratch.ipynb Cell 6\u001b[0m line \u001b[0;36m1\n\u001b[0;32m----> <a href='vscode-notebook-cell://attached-container%2B7b22636f6e7461696e65724e616d65223a222f6170706c6965645f646174615f736369656e63655f6170706c6965645f646174615f736369656e63655f72756e5f353238663430623035383635227d@ssh-remote%2B7b22686f73744e616d65223a227072696d6172795f564d227d/app/applied_data_science/gridmeter/gridmeter/gridmeter/scratch.ipynb#W5sdnNjb2RlLXJlbW90ZQ%3D%3D?line=0'>1</a>\u001b[0m df_cg, df_t_coeffs \u001b[39m=\u001b[39m get_comparison_group(df_ls_t_mod, df_ls_cp_mod, allow_duplicate_match\u001b[39m=\u001b[39m\u001b[39mTrue\u001b[39;00m, n_match_multiplier\u001b[39m=\u001b[39m\u001b[39m2\u001b[39m)\n\u001b[1;32m      <a href='vscode-notebook-cell://attached-container%2B7b22636f6e7461696e65724e616d65223a222f6170706c6965645f646174615f736369656e63655f6170706c6965645f646174615f736369656e63655f72756e5f353238663430623035383635227d@ssh-remote%2B7b22686f73744e616d65223a227072696d6172795f564d227d/app/applied_data_science/gridmeter/gridmeter/gridmeter/scratch.ipynb#W5sdnNjb2RlLXJlbW90ZQ%3D%3D?line=1'>2</a>\u001b[0m df_cg\u001b[39m.\u001b[39mreset_index()\u001b[39m.\u001b[39msort_values(by\u001b[39m=\u001b[39m[\u001b[39m\"\u001b[39m\u001b[39mtreatment\u001b[39m\u001b[39m\"\u001b[39m, \u001b[39m\"\u001b[39m\u001b[39mid\u001b[39m\u001b[39m\"\u001b[39m, \u001b[39m\"\u001b[39m\u001b[39mdistance\u001b[39m\u001b[39m\"\u001b[39m])\n",
      "\u001b[0;31mNameError\u001b[0m: name 'df_ls_t_mod' is not defined"
     ]
    }
   ],
   "source": [
    "df_cg, df_t_coeffs = get_comparison_group(df_ls_t_mod, df_ls_cp_mod, allow_duplicate_match=True, n_match_multiplier=2)\n",
    "df_cg.reset_index().sort_values(by=[\"treatment\", \"id\", \"distance\"])"
   ]
  },
  {
   "cell_type": "code",
   "execution_count": null,
   "metadata": {},
   "outputs": [],
   "source": [
    "df_cg.sort_values([\"treatment\", \"distance\"])"
   ]
  },
  {
   "cell_type": "code",
   "execution_count": null,
   "metadata": {},
   "outputs": [],
   "source": [
    "df_ls_t"
   ]
  },
  {
   "cell_type": "code",
   "execution_count": null,
   "metadata": {},
   "outputs": [],
   "source": [
    "df_ls_t_mod.stack().reset_index().rename(columns={0: \"ls\"})"
   ]
  },
  {
   "cell_type": "code",
   "execution_count": 7,
   "metadata": {},
   "outputs": [
    {
     "ename": "KeyError",
     "evalue": "\"None of ['id', 'hour'] are in the columns\"",
     "output_type": "error",
     "traceback": [
      "\u001b[0;31m---------------------------------------------------------------------------\u001b[0m",
      "\u001b[0;31mKeyError\u001b[0m                                  Traceback (most recent call last)",
      "\u001b[0;32m/tmp/ipykernel_28400/2011671160.py\u001b[0m in \u001b[0;36m?\u001b[0;34m()\u001b[0m\n\u001b[1;32m      1\u001b[0m \u001b[0;31m# Test Clustering\u001b[0m\u001b[0;34m\u001b[0m\u001b[0;34m\u001b[0m\u001b[0m\n\u001b[1;32m      2\u001b[0m \u001b[0;34m\u001b[0m\u001b[0m\n\u001b[1;32m      3\u001b[0m \u001b[0mclustering_settings\u001b[0m \u001b[0;34m=\u001b[0m \u001b[0mClustering_Settings\u001b[0m\u001b[0;34m(\u001b[0m\u001b[0;34m)\u001b[0m\u001b[0;34m\u001b[0m\u001b[0;34m\u001b[0m\u001b[0m\n\u001b[0;32m----> 4\u001b[0;31m \u001b[0mdf_cg\u001b[0m\u001b[0;34m,\u001b[0m \u001b[0mdf_t_coeffs\u001b[0m \u001b[0;34m=\u001b[0m \u001b[0mClustering\u001b[0m\u001b[0;34m(\u001b[0m\u001b[0mclustering_settings\u001b[0m\u001b[0;34m)\u001b[0m\u001b[0;34m.\u001b[0m\u001b[0mget_comparison_group\u001b[0m\u001b[0;34m(\u001b[0m\u001b[0mtreatment_data\u001b[0m\u001b[0;34m,\u001b[0m \u001b[0mcomparison_pool_data\u001b[0m\u001b[0;34m)\u001b[0m\u001b[0;34m\u001b[0m\u001b[0;34m\u001b[0m\u001b[0m\n\u001b[0m\u001b[1;32m      5\u001b[0m \u001b[0mdf_cg\u001b[0m\u001b[0;34m\u001b[0m\u001b[0;34m\u001b[0m\u001b[0m\n",
      "\u001b[0;32m/app/applied_data_science/gridmeter/gridmeter/gridmeter/_clustering/create_comparison_groups.py\u001b[0m in \u001b[0;36m?\u001b[0;34m(self, treatment_data, comparison_pool_data)\u001b[0m\n\u001b[1;32m     46\u001b[0m     \u001b[0;32mdef\u001b[0m \u001b[0mget_comparison_group\u001b[0m\u001b[0;34m(\u001b[0m\u001b[0mself\u001b[0m\u001b[0;34m,\u001b[0m \u001b[0mtreatment_data\u001b[0m\u001b[0;34m,\u001b[0m \u001b[0mcomparison_pool_data\u001b[0m\u001b[0;34m)\u001b[0m\u001b[0;34m:\u001b[0m\u001b[0;34m\u001b[0m\u001b[0;34m\u001b[0m\u001b[0m\n\u001b[1;32m     47\u001b[0m         \u001b[0mdf_t\u001b[0m \u001b[0;34m=\u001b[0m \u001b[0mtreatment_data\u001b[0m\u001b[0;34m.\u001b[0m\u001b[0mloadshape\u001b[0m\u001b[0;34m\u001b[0m\u001b[0;34m\u001b[0m\u001b[0m\n\u001b[1;32m     48\u001b[0m         \u001b[0mdf_cp\u001b[0m \u001b[0;34m=\u001b[0m \u001b[0mcomparison_pool_data\u001b[0m\u001b[0;34m.\u001b[0m\u001b[0mloadshape\u001b[0m\u001b[0;34m\u001b[0m\u001b[0;34m\u001b[0m\u001b[0m\n\u001b[1;32m     49\u001b[0m \u001b[0;34m\u001b[0m\u001b[0m\n\u001b[0;32m---> 50\u001b[0;31m         \u001b[0mclusters\u001b[0m \u001b[0;34m=\u001b[0m \u001b[0mself\u001b[0m\u001b[0;34m.\u001b[0m\u001b[0mget_clusters\u001b[0m\u001b[0;34m(\u001b[0m\u001b[0mdf_cp\u001b[0m\u001b[0;34m)\u001b[0m\u001b[0;34m\u001b[0m\u001b[0;34m\u001b[0m\u001b[0m\n\u001b[0m\u001b[1;32m     51\u001b[0m         \u001b[0mtreatment_weights\u001b[0m \u001b[0;34m=\u001b[0m \u001b[0mself\u001b[0m\u001b[0;34m.\u001b[0m\u001b[0mmatch_treatment_to_clusters\u001b[0m\u001b[0;34m(\u001b[0m\u001b[0mdf_t\u001b[0m\u001b[0;34m)\u001b[0m\u001b[0;34m\u001b[0m\u001b[0;34m\u001b[0m\u001b[0m\n\u001b[1;32m     52\u001b[0m \u001b[0;34m\u001b[0m\u001b[0m\n\u001b[1;32m     53\u001b[0m         \u001b[0;32mreturn\u001b[0m \u001b[0mclusters\u001b[0m\u001b[0;34m,\u001b[0m \u001b[0mtreatment_weights\u001b[0m\u001b[0;34m\u001b[0m\u001b[0;34m\u001b[0m\u001b[0m\n",
      "\u001b[0;32m/app/applied_data_science/gridmeter/gridmeter/gridmeter/_clustering/create_comparison_groups.py\u001b[0m in \u001b[0;36m?\u001b[0;34m(self, df_ls_cp)\u001b[0m\n\u001b[1;32m     24\u001b[0m     \u001b[0;32mdef\u001b[0m \u001b[0mget_clusters\u001b[0m\u001b[0;34m(\u001b[0m\u001b[0mself\u001b[0m\u001b[0;34m,\u001b[0m \u001b[0mdf_ls_cp\u001b[0m\u001b[0;34m:\u001b[0m \u001b[0mpd\u001b[0m\u001b[0;34m.\u001b[0m\u001b[0mDataFrame\u001b[0m\u001b[0;34m)\u001b[0m\u001b[0;34m:\u001b[0m\u001b[0;34m\u001b[0m\u001b[0;34m\u001b[0m\u001b[0m\n\u001b[1;32m     25\u001b[0m         self.Cluster = (\n\u001b[0;32m---> 26\u001b[0;31m             _cluster.ClusterResult.from_comparison_pool_loadshapes_and_settings(\n\u001b[0m\u001b[1;32m     27\u001b[0m                 \u001b[0mdf_cp_ls\u001b[0m\u001b[0;34m=\u001b[0m\u001b[0mdf_ls_cp\u001b[0m\u001b[0;34m,\u001b[0m \u001b[0ms\u001b[0m\u001b[0;34m=\u001b[0m\u001b[0mself\u001b[0m\u001b[0;34m.\u001b[0m\u001b[0msettings\u001b[0m\u001b[0;34m\u001b[0m\u001b[0;34m\u001b[0m\u001b[0m\n\u001b[1;32m     28\u001b[0m             )\n\u001b[1;32m     29\u001b[0m         )\n",
      "\u001b[0;32m/app/applied_data_science/gridmeter/gridmeter/gridmeter/_clustering/cluster.py\u001b[0m in \u001b[0;36m?\u001b[0;34m(cls, df_cp_ls, s)\u001b[0m\n\u001b[1;32m    638\u001b[0m \u001b[0;34m\u001b[0m\u001b[0m\n\u001b[1;32m    639\u001b[0m         \u001b[0mWill\u001b[0m \u001b[0mdo\u001b[0m \u001b[0mall\u001b[0m \u001b[0mnecessary\u001b[0m \u001b[0mtransformations\u001b[0m \u001b[0;32mand\u001b[0m \u001b[0mclustering\u001b[0m\u001b[0;34m/\u001b[0m\u001b[0mscoring\u001b[0m \u001b[0mneeded\u001b[0m \u001b[0;32min\u001b[0m \u001b[0morder\u001b[0m \u001b[0mto\u001b[0m \u001b[0;32mreturn\u001b[0m \u001b[0mthe\u001b[0m \u001b[0minstance\u001b[0m\u001b[0;34m\u001b[0m\u001b[0;34m\u001b[0m\u001b[0m\n\u001b[1;32m    640\u001b[0m         \u001b[0mof\u001b[0m \u001b[0mthe\u001b[0m \u001b[0;32mclass\u001b[0m \u001b[0mthat\u001b[0m \u001b[0;32mis\u001b[0m \u001b[0mcapable\u001b[0m \u001b[0mof\u001b[0m \u001b[0massigning\u001b[0m \u001b[0mweights\u001b[0m \u001b[0mto\u001b[0m \u001b[0mtreatment\u001b[0m \u001b[0mloadshapes\u001b[0m\u001b[0;34m.\u001b[0m\u001b[0;34m\u001b[0m\u001b[0;34m\u001b[0m\u001b[0m\n\u001b[1;32m    641\u001b[0m         \"\"\"\n\u001b[0;32m--> 642\u001b[0;31m         \u001b[0mdf_cp_ls\u001b[0m \u001b[0;34m=\u001b[0m \u001b[0m_data\u001b[0m\u001b[0;34m.\u001b[0m\u001b[0mset_df_index\u001b[0m\u001b[0;34m(\u001b[0m\u001b[0mdf\u001b[0m\u001b[0;34m=\u001b[0m\u001b[0mdf_cp_ls\u001b[0m\u001b[0;34m)\u001b[0m\u001b[0;34m\u001b[0m\u001b[0;34m\u001b[0m\u001b[0m\n\u001b[0m\u001b[1;32m    643\u001b[0m         ls_transform = _transform.InitialPoolLoadshapeTransform.from_full_cp_ls_df(\n\u001b[1;32m    644\u001b[0m             \u001b[0mdf\u001b[0m\u001b[0;34m=\u001b[0m\u001b[0mdf_cp_ls\u001b[0m\u001b[0;34m,\u001b[0m \u001b[0mmin_var_ratio\u001b[0m\u001b[0;34m=\u001b[0m\u001b[0ms\u001b[0m\u001b[0;34m.\u001b[0m\u001b[0mFPCA_MIN_VARIANCE_RATIO\u001b[0m\u001b[0;34m\u001b[0m\u001b[0;34m\u001b[0m\u001b[0m\n\u001b[1;32m    645\u001b[0m         )\n",
      "\u001b[0;32m/app/applied_data_science/gridmeter/gridmeter/gridmeter/_clustering/data.py\u001b[0m in \u001b[0;36m?\u001b[0;34m(df)\u001b[0m\n\u001b[1;32m      7\u001b[0m     \"\"\"\n\u001b[1;32m      8\u001b[0m     \u001b[0;32mif\u001b[0m \u001b[0mdf\u001b[0m\u001b[0;34m.\u001b[0m\u001b[0mindex\u001b[0m\u001b[0;34m.\u001b[0m\u001b[0mnames\u001b[0m \u001b[0;34m==\u001b[0m \u001b[0;34m[\u001b[0m\u001b[0;34m\"id\"\u001b[0m\u001b[0;34m,\u001b[0m \u001b[0;34m\"hour\"\u001b[0m\u001b[0;34m]\u001b[0m\u001b[0;34m:\u001b[0m\u001b[0;34m\u001b[0m\u001b[0;34m\u001b[0m\u001b[0m\n\u001b[1;32m      9\u001b[0m          \u001b[0;32mreturn\u001b[0m \u001b[0mdf\u001b[0m\u001b[0;34m\u001b[0m\u001b[0;34m\u001b[0m\u001b[0m\n\u001b[1;32m     10\u001b[0m \u001b[0;34m\u001b[0m\u001b[0m\n\u001b[0;32m---> 11\u001b[0;31m     \u001b[0;32mreturn\u001b[0m \u001b[0mdf\u001b[0m\u001b[0;34m.\u001b[0m\u001b[0mset_index\u001b[0m\u001b[0;34m(\u001b[0m\u001b[0;34m[\u001b[0m\u001b[0;34m\"id\"\u001b[0m\u001b[0;34m,\u001b[0m \u001b[0;34m\"hour\"\u001b[0m\u001b[0;34m]\u001b[0m\u001b[0;34m)\u001b[0m\u001b[0;34m\u001b[0m\u001b[0;34m\u001b[0m\u001b[0m\n\u001b[0m",
      "\u001b[0;32m/usr/local/lib/python3.11/site-packages/pandas/core/frame.py\u001b[0m in \u001b[0;36m?\u001b[0;34m(self, keys, drop, append, inplace, verify_integrity)\u001b[0m\n\u001b[1;32m   5866\u001b[0m                     \u001b[0;32mif\u001b[0m \u001b[0;32mnot\u001b[0m \u001b[0mfound\u001b[0m\u001b[0;34m:\u001b[0m\u001b[0;34m\u001b[0m\u001b[0;34m\u001b[0m\u001b[0m\n\u001b[1;32m   5867\u001b[0m                         \u001b[0mmissing\u001b[0m\u001b[0;34m.\u001b[0m\u001b[0mappend\u001b[0m\u001b[0;34m(\u001b[0m\u001b[0mcol\u001b[0m\u001b[0;34m)\u001b[0m\u001b[0;34m\u001b[0m\u001b[0;34m\u001b[0m\u001b[0m\n\u001b[1;32m   5868\u001b[0m \u001b[0;34m\u001b[0m\u001b[0m\n\u001b[1;32m   5869\u001b[0m         \u001b[0;32mif\u001b[0m \u001b[0mmissing\u001b[0m\u001b[0;34m:\u001b[0m\u001b[0;34m\u001b[0m\u001b[0;34m\u001b[0m\u001b[0m\n\u001b[0;32m-> 5870\u001b[0;31m             \u001b[0;32mraise\u001b[0m \u001b[0mKeyError\u001b[0m\u001b[0;34m(\u001b[0m\u001b[0;34mf\"None of {missing} are in the columns\"\u001b[0m\u001b[0;34m)\u001b[0m\u001b[0;34m\u001b[0m\u001b[0;34m\u001b[0m\u001b[0m\n\u001b[0m\u001b[1;32m   5871\u001b[0m \u001b[0;34m\u001b[0m\u001b[0m\n\u001b[1;32m   5872\u001b[0m         \u001b[0;32mif\u001b[0m \u001b[0minplace\u001b[0m\u001b[0;34m:\u001b[0m\u001b[0;34m\u001b[0m\u001b[0;34m\u001b[0m\u001b[0m\n\u001b[1;32m   5873\u001b[0m             \u001b[0mframe\u001b[0m \u001b[0;34m=\u001b[0m \u001b[0mself\u001b[0m\u001b[0;34m\u001b[0m\u001b[0;34m\u001b[0m\u001b[0m\n",
      "\u001b[0;31mKeyError\u001b[0m: \"None of ['id', 'hour'] are in the columns\""
     ]
    }
   ],
   "source": [
    "# Test Clustering\n",
    "\n",
    "clustering_settings = Clustering_Settings()\n",
    "df_cg, df_t_coeffs = Clustering(clustering_settings).get_comparison_group(treatment_data, comparison_pool_data)\n",
    "df_cg"
   ]
  },
  {
   "cell_type": "code",
   "execution_count": null,
   "metadata": {},
   "outputs": [],
   "source": [
    "df_t_coeffs"
   ]
  }
 ],
 "metadata": {
  "interpreter": {
   "hash": "949777d72b0d2535278d3dc13498b2535136f6dfe0678499012e853ee9abcab1"
  },
  "kernelspec": {
   "display_name": "Python 3.8.12 64-bit",
   "language": "python",
   "name": "python3"
  },
  "language_info": {
   "codemirror_mode": {
    "name": "ipython",
    "version": 3
   },
   "file_extension": ".py",
   "mimetype": "text/x-python",
   "name": "python",
   "nbconvert_exporter": "python",
   "pygments_lexer": "ipython3",
   "version": "3.11.4"
  }
 },
 "nbformat": 4,
 "nbformat_minor": 4
}
