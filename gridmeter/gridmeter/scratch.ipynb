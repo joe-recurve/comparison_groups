{
 "cells": [
  {
   "cell_type": "code",
   "execution_count": 6,
   "metadata": {},
   "outputs": [
    {
     "name": "stdout",
     "output_type": "stream",
     "text": [
      "The autoreload extension is already loaded. To reload it, use:\n",
      "  %reload_ext autoreload\n"
     ]
    }
   ],
   "source": [
    "# %matplotlib\n",
    "# %matplotlib inline\n",
    "# %matplotlib notebook\n",
    "\n",
    "import pandas as pd\n",
    "import numpy as np\n",
    "import random\n",
    "import os\n",
    "import warnings\n",
    "from datetime import datetime, timedelta, timezone\n",
    "warnings.simplefilter(\"ignore\")\n",
    "import matplotlib.pyplot as plt\n",
    "import matplotlib.gridspec as gridspec\n",
    "from matplotlib.ticker import AutoMinorLocator\n",
    "from matplotlib.ticker import FormatStrFormatter\n",
    "import re\n",
    "import math\n",
    "from copy import deepcopy\n",
    "from numba_stats import t\n",
    "import scipy.stats as stats\n",
    "\n",
    "# Data\n",
    "from gridmeter import Data\n",
    "from gridmeter import Data_Settings\n",
    "\n",
    "# IMM\n",
    "from gridmeter import IMM\n",
    "from gridmeter import IMM_Settings\n",
    "\n",
    "# Clustering\n",
    "from gridmeter import Clustering\n",
    "from gridmeter import Clustering_Settings\n",
    "\n",
    "from IPython.display import Image, Markdown, display\n",
    "plt.ion()\n",
    "plt.rcParams['figure.figsize'] = [24, 16]\n",
    "plt.rcParams['figure.dpi'] = 300\n",
    "\n",
    "# pd.set_option('display.max_rows', None)\n",
    "# pd.set_option('display.max_columns', None)\n",
    "# pd.set_option('display.max_colwidth', None)\n",
    "\n",
    "%load_ext autoreload\n",
    "%autoreload 2"
   ]
  },
  {
   "cell_type": "code",
   "execution_count": 12,
   "metadata": {},
   "outputs": [],
   "source": [
    "df_ls_t = pd.read_csv(\"/app/.recurve_cache/clustering/example_dfs/df_ls_t.csv\")\n",
    "df_ls_cp = pd.read_csv(\"/app/.recurve_cache/clustering/example_dfs/df_ls_cp.csv\")\n",
    "\n",
    "df_ls_t = df_ls_t.rename(columns={\"hour\": \"time\", \"ls\": \"loadshape\"})\n",
    "df_ls_cp = df_ls_cp.rename(columns={\"hour\": \"time\", \"ls\": \"loadshape\"})\n",
    "\n",
    "treatment_data = Data()\n",
    "treatment_data.set_data(df_ls_t)\n",
    "\n",
    "comparison_pool_data = Data()\n",
    "comparison_pool_data.set_data(df_ls_cp)"
   ]
  },
  {
   "cell_type": "code",
   "execution_count": 4,
   "metadata": {},
   "outputs": [
    {
     "ename": "TypeError",
     "evalue": "dtype timedelta64[ns] cannot be converted to datetime64[ns]",
     "output_type": "error",
     "traceback": [
      "\u001b[0;31m---------------------------------------------------------------------------\u001b[0m",
      "\u001b[0;31mTypeError\u001b[0m                                 Traceback (most recent call last)",
      "\u001b[1;32m/app/applied_data_science/gridmeter/gridmeter/gridmeter/scratch.ipynb Cell 4\u001b[0m line \u001b[0;36m2\n\u001b[1;32m     <a href='vscode-notebook-cell://attached-container%2B7b22636f6e7461696e65724e616d65223a222f6170706c6965645f646174615f736369656e63655f6170706c6965645f646174615f736369656e63655f72756e5f353238663430623035383635227d@ssh-remote%2B7b22686f73744e616d65223a227072696d6172795f564d227d/app/applied_data_science/gridmeter/gridmeter/gridmeter/scratch.ipynb#W3sdnNjb2RlLXJlbW90ZQ%3D%3D?line=13'>14</a>\u001b[0m df_features \u001b[39m=\u001b[39m pd\u001b[39m.\u001b[39mDataFrame({\n\u001b[1;32m     <a href='vscode-notebook-cell://attached-container%2B7b22636f6e7461696e65724e616d65223a222f6170706c6965645f646174615f736369656e63655f6170706c6965645f646174615f736369656e63655f72756e5f353238663430623035383635227d@ssh-remote%2B7b22686f73744e616d65223a227072696d6172795f564d227d/app/applied_data_science/gridmeter/gridmeter/gridmeter/scratch.ipynb#W3sdnNjb2RlLXJlbW90ZQ%3D%3D?line=14'>15</a>\u001b[0m     \u001b[39m'\u001b[39m\u001b[39mid\u001b[39m\u001b[39m'\u001b[39m: [\u001b[39m'\u001b[39m\u001b[39mid1\u001b[39m\u001b[39m'\u001b[39m, \u001b[39m'\u001b[39m\u001b[39mid2\u001b[39m\u001b[39m'\u001b[39m, \u001b[39m'\u001b[39m\u001b[39mid3\u001b[39m\u001b[39m'\u001b[39m],  \u001b[39m# only 3 ids for easier comparison\u001b[39;00m\n\u001b[1;32m     <a href='vscode-notebook-cell://attached-container%2B7b22636f6e7461696e65724e616d65223a222f6170706c6965645f646174615f736369656e63655f6170706c6965645f646174615f736369656e63655f72756e5f353238663430623035383635227d@ssh-remote%2B7b22686f73744e616d65223a227072696d6172795f564d227d/app/applied_data_science/gridmeter/gridmeter/gridmeter/scratch.ipynb#W3sdnNjb2RlLXJlbW90ZQ%3D%3D?line=15'>16</a>\u001b[0m     \u001b[39m'\u001b[39m\u001b[39mfeature1\u001b[39m\u001b[39m'\u001b[39m: np\u001b[39m.\u001b[39mrandom\u001b[39m.\u001b[39mrand(\u001b[39m3\u001b[39m),  \u001b[39m# randomized\u001b[39;00m\n\u001b[1;32m     <a href='vscode-notebook-cell://attached-container%2B7b22636f6e7461696e65724e616d65223a222f6170706c6965645f646174615f736369656e63655f6170706c6965645f646174615f736369656e63655f72756e5f353238663430623035383635227d@ssh-remote%2B7b22686f73744e616d65223a227072696d6172795f564d227d/app/applied_data_science/gridmeter/gridmeter/gridmeter/scratch.ipynb#W3sdnNjb2RlLXJlbW90ZQ%3D%3D?line=16'>17</a>\u001b[0m     \u001b[39m'\u001b[39m\u001b[39mfeature2\u001b[39m\u001b[39m'\u001b[39m: [\u001b[39mNone\u001b[39;00m, \u001b[39m*\u001b[39mnp\u001b[39m.\u001b[39mrandom\u001b[39m.\u001b[39mrand(\u001b[39m2\u001b[39m)]  \u001b[39m# randomized\u001b[39;00m\n\u001b[1;32m     <a href='vscode-notebook-cell://attached-container%2B7b22636f6e7461696e65724e616d65223a222f6170706c6965645f646174615f736369656e63655f6170706c6965645f646174615f736369656e63655f72756e5f353238663430623035383635227d@ssh-remote%2B7b22686f73744e616d65223a227072696d6172795f564d227d/app/applied_data_science/gridmeter/gridmeter/gridmeter/scratch.ipynb#W3sdnNjb2RlLXJlbW90ZQ%3D%3D?line=17'>18</a>\u001b[0m     \u001b[39m# 'feature2': *np.random.rand(3)  # randomized\u001b[39;00m\n\u001b[1;32m     <a href='vscode-notebook-cell://attached-container%2B7b22636f6e7461696e65724e616d65223a222f6170706c6965645f646174615f736369656e63655f6170706c6965645f646174615f736369656e63655f72756e5f353238663430623035383635227d@ssh-remote%2B7b22686f73744e616d65223a227072696d6172795f564d227d/app/applied_data_science/gridmeter/gridmeter/gridmeter/scratch.ipynb#W3sdnNjb2RlLXJlbW90ZQ%3D%3D?line=18'>19</a>\u001b[0m })\n\u001b[1;32m     <a href='vscode-notebook-cell://attached-container%2B7b22636f6e7461696e65724e616d65223a222f6170706c6965645f646174615f736369656e63655f6170706c6965645f646174615f736369656e63655f72756e5f353238663430623035383635227d@ssh-remote%2B7b22686f73744e616d65223a227072696d6172795f564d227d/app/applied_data_science/gridmeter/gridmeter/gridmeter/scratch.ipynb#W3sdnNjb2RlLXJlbW90ZQ%3D%3D?line=20'>21</a>\u001b[0m data \u001b[39m=\u001b[39m Data()\n\u001b[0;32m---> <a href='vscode-notebook-cell://attached-container%2B7b22636f6e7461696e65724e616d65223a222f6170706c6965645f646174615f736369656e63655f6170706c6965645f646174615f736369656e63655f72756e5f353238663430623035383635227d@ssh-remote%2B7b22686f73744e616d65223a227072696d6172795f564d227d/app/applied_data_science/gridmeter/gridmeter/gridmeter/scratch.ipynb#W3sdnNjb2RlLXJlbW90ZQ%3D%3D?line=21'>22</a>\u001b[0m data\u001b[39m.\u001b[39;49mset_data(time_series_df\u001b[39m=\u001b[39;49mdf, features_df\u001b[39m=\u001b[39;49mdf_features)\n\u001b[1;32m     <a href='vscode-notebook-cell://attached-container%2B7b22636f6e7461696e65724e616d65223a222f6170706c6965645f646174615f736369656e63655f6170706c6965645f646174615f736369656e63655f72756e5f353238663430623035383635227d@ssh-remote%2B7b22686f73744e616d65223a227072696d6172795f564d227d/app/applied_data_science/gridmeter/gridmeter/gridmeter/scratch.ipynb#W3sdnNjb2RlLXJlbW90ZQ%3D%3D?line=22'>23</a>\u001b[0m data\u001b[39m.\u001b[39mloadshape\n\u001b[1;32m     <a href='vscode-notebook-cell://attached-container%2B7b22636f6e7461696e65724e616d65223a222f6170706c6965645f646174615f736369656e63655f6170706c6965645f646174615f736369656e63655f72756e5f353238663430623035383635227d@ssh-remote%2B7b22686f73744e616d65223a227072696d6172795f564d227d/app/applied_data_science/gridmeter/gridmeter/gridmeter/scratch.ipynb#W3sdnNjb2RlLXJlbW90ZQ%3D%3D?line=23'>24</a>\u001b[0m \u001b[39m# data.features\u001b[39;00m\n",
      "File \u001b[0;32m/app/applied_data_science/gridmeter/gridmeter/gridmeter/_utils/data_processing.py:317\u001b[0m, in \u001b[0;36mData.set_data\u001b[0;34m(self, loadshape_df, time_series_df, features_df)\u001b[0m\n\u001b[1;32m    314\u001b[0m     loadshape_df \u001b[39m=\u001b[39m \u001b[39mself\u001b[39m\u001b[39m.\u001b[39m_validate_format_loadshape(loadshape_df)\n\u001b[1;32m    316\u001b[0m \u001b[39melif\u001b[39;00m time_series_df \u001b[39mis\u001b[39;00m \u001b[39mnot\u001b[39;00m \u001b[39mNone\u001b[39;00m:\n\u001b[0;32m--> 317\u001b[0m     loadshape_df \u001b[39m=\u001b[39m \u001b[39mself\u001b[39;49m\u001b[39m.\u001b[39;49m_convert_timeseries_to_loadshape(time_series_df)\n\u001b[1;32m    319\u001b[0m \u001b[39mif\u001b[39;00m features_df \u001b[39mis\u001b[39;00m \u001b[39mnot\u001b[39;00m \u001b[39mNone\u001b[39;00m:\n\u001b[1;32m    320\u001b[0m     features_df \u001b[39m=\u001b[39m \u001b[39mself\u001b[39m\u001b[39m.\u001b[39m_validate_format_features(features_df)\n",
      "File \u001b[0;32m/app/applied_data_science/gridmeter/gridmeter/gridmeter/_utils/data_processing.py:251\u001b[0m, in \u001b[0;36mData._convert_timeseries_to_loadshape\u001b[0;34m(self, time_series_df)\u001b[0m\n\u001b[1;32m    248\u001b[0m base_df \u001b[39m=\u001b[39m base_df\u001b[39m.\u001b[39mset_index(\u001b[39m\"\u001b[39m\u001b[39mdatetime\u001b[39m\u001b[39m\"\u001b[39m)\n\u001b[1;32m    250\u001b[0m \u001b[39m# Check that the time column is having a minimum granularity lower than requested time period, otherwise we cannot aggregate\u001b[39;00m\n\u001b[0;32m--> 251\u001b[0m base_df[\u001b[39m\"\u001b[39m\u001b[39mtime_diff\u001b[39m\u001b[39m\"\u001b[39m] \u001b[39m=\u001b[39m base_df\u001b[39m.\u001b[39;49mindex\u001b[39m.\u001b[39;49mdiff()\n\u001b[1;32m    252\u001b[0m min_time_diff_per_id \u001b[39m=\u001b[39m base_df\u001b[39m.\u001b[39mgroupby(\u001b[39m\"\u001b[39m\u001b[39mid\u001b[39m\u001b[39m\"\u001b[39m)[\u001b[39m\"\u001b[39m\u001b[39mtime_diff\u001b[39m\u001b[39m\"\u001b[39m]\u001b[39m.\u001b[39mmin()\u001b[39m.\u001b[39mdt\u001b[39m.\u001b[39mtotal_seconds() \u001b[39m/\u001b[39m \u001b[39m60\u001b[39m\n\u001b[1;32m    254\u001b[0m \u001b[39m# Get the ids that have a higher minimum granularity than defined\u001b[39;00m\n",
      "File \u001b[0;32m/usr/local/lib/python3.11/site-packages/pandas/core/indexes/base.py:7053\u001b[0m, in \u001b[0;36mIndex.diff\u001b[0;34m(self, periods)\u001b[0m\n\u001b[1;32m   7027\u001b[0m \u001b[39mdef\u001b[39;00m \u001b[39mdiff\u001b[39m(\u001b[39mself\u001b[39m, periods: \u001b[39mint\u001b[39m \u001b[39m=\u001b[39m \u001b[39m1\u001b[39m):\n\u001b[1;32m   7028\u001b[0m \u001b[39m    \u001b[39m\u001b[39m\"\"\"\u001b[39;00m\n\u001b[1;32m   7029\u001b[0m \u001b[39m    Computes the difference between consecutive values in the Index object.\u001b[39;00m\n\u001b[1;32m   7030\u001b[0m \n\u001b[0;32m   (...)\u001b[0m\n\u001b[1;32m   7051\u001b[0m \n\u001b[1;32m   7052\u001b[0m \u001b[39m    \"\"\"\u001b[39;00m\n\u001b[0;32m-> 7053\u001b[0m     \u001b[39mreturn\u001b[39;00m \u001b[39mself\u001b[39;49m\u001b[39m.\u001b[39;49m_constructor(\u001b[39mself\u001b[39;49m\u001b[39m.\u001b[39;49mto_series()\u001b[39m.\u001b[39;49mdiff(periods))\n",
      "File \u001b[0;32m/usr/local/lib/python3.11/site-packages/pandas/core/indexes/datetimes.py:368\u001b[0m, in \u001b[0;36mDatetimeIndex.__new__\u001b[0;34m(cls, data, freq, tz, normalize, closed, ambiguous, dayfirst, yearfirst, dtype, copy, name)\u001b[0m\n\u001b[1;32m    365\u001b[0m         data \u001b[39m=\u001b[39m data\u001b[39m.\u001b[39mcopy()\n\u001b[1;32m    366\u001b[0m     \u001b[39mreturn\u001b[39;00m \u001b[39mcls\u001b[39m\u001b[39m.\u001b[39m_simple_new(data, name\u001b[39m=\u001b[39mname)\n\u001b[0;32m--> 368\u001b[0m dtarr \u001b[39m=\u001b[39m DatetimeArray\u001b[39m.\u001b[39;49m_from_sequence_not_strict(\n\u001b[1;32m    369\u001b[0m     data,\n\u001b[1;32m    370\u001b[0m     dtype\u001b[39m=\u001b[39;49mdtype,\n\u001b[1;32m    371\u001b[0m     copy\u001b[39m=\u001b[39;49mcopy,\n\u001b[1;32m    372\u001b[0m     tz\u001b[39m=\u001b[39;49mtz,\n\u001b[1;32m    373\u001b[0m     freq\u001b[39m=\u001b[39;49mfreq,\n\u001b[1;32m    374\u001b[0m     dayfirst\u001b[39m=\u001b[39;49mdayfirst,\n\u001b[1;32m    375\u001b[0m     yearfirst\u001b[39m=\u001b[39;49myearfirst,\n\u001b[1;32m    376\u001b[0m     ambiguous\u001b[39m=\u001b[39;49mambiguous,\n\u001b[1;32m    377\u001b[0m )\n\u001b[1;32m    378\u001b[0m refs \u001b[39m=\u001b[39m \u001b[39mNone\u001b[39;00m\n\u001b[1;32m    379\u001b[0m \u001b[39mif\u001b[39;00m \u001b[39mnot\u001b[39;00m copy \u001b[39mand\u001b[39;00m \u001b[39misinstance\u001b[39m(data, (Index, ABCSeries)):\n",
      "File \u001b[0;32m/usr/local/lib/python3.11/site-packages/pandas/core/arrays/datetimes.py:339\u001b[0m, in \u001b[0;36mDatetimeArray._from_sequence_not_strict\u001b[0;34m(cls, data, dtype, copy, tz, freq, dayfirst, yearfirst, ambiguous)\u001b[0m\n\u001b[1;32m    335\u001b[0m     \u001b[39melse\u001b[39;00m:\n\u001b[1;32m    336\u001b[0m         \u001b[39m# DatetimeTZDtype\u001b[39;00m\n\u001b[1;32m    337\u001b[0m         unit \u001b[39m=\u001b[39m dtype\u001b[39m.\u001b[39munit\n\u001b[0;32m--> 339\u001b[0m subarr, tz, inferred_freq \u001b[39m=\u001b[39m _sequence_to_dt64ns(\n\u001b[1;32m    340\u001b[0m     data,\n\u001b[1;32m    341\u001b[0m     copy\u001b[39m=\u001b[39;49mcopy,\n\u001b[1;32m    342\u001b[0m     tz\u001b[39m=\u001b[39;49mtz,\n\u001b[1;32m    343\u001b[0m     dayfirst\u001b[39m=\u001b[39;49mdayfirst,\n\u001b[1;32m    344\u001b[0m     yearfirst\u001b[39m=\u001b[39;49myearfirst,\n\u001b[1;32m    345\u001b[0m     ambiguous\u001b[39m=\u001b[39;49mambiguous,\n\u001b[1;32m    346\u001b[0m     out_unit\u001b[39m=\u001b[39;49munit,\n\u001b[1;32m    347\u001b[0m )\n\u001b[1;32m    348\u001b[0m \u001b[39m# We have to call this again after possibly inferring a tz above\u001b[39;00m\n\u001b[1;32m    349\u001b[0m _validate_tz_from_dtype(dtype, tz, explicit_tz_none)\n",
      "File \u001b[0;32m/usr/local/lib/python3.11/site-packages/pandas/core/arrays/datetimes.py:2205\u001b[0m, in \u001b[0;36m_sequence_to_dt64ns\u001b[0;34m(data, copy, tz, dayfirst, yearfirst, ambiguous, out_unit)\u001b[0m\n\u001b[1;32m   2202\u001b[0m     inferred_freq \u001b[39m=\u001b[39m data\u001b[39m.\u001b[39mfreq\n\u001b[1;32m   2204\u001b[0m \u001b[39m# By this point we are assured to have either a numpy array or Index\u001b[39;00m\n\u001b[0;32m-> 2205\u001b[0m data, copy \u001b[39m=\u001b[39m maybe_convert_dtype(data, copy, tz\u001b[39m=\u001b[39;49mtz)\n\u001b[1;32m   2206\u001b[0m data_dtype \u001b[39m=\u001b[39m \u001b[39mgetattr\u001b[39m(data, \u001b[39m\"\u001b[39m\u001b[39mdtype\u001b[39m\u001b[39m\"\u001b[39m, \u001b[39mNone\u001b[39;00m)\n\u001b[1;32m   2208\u001b[0m out_dtype \u001b[39m=\u001b[39m DT64NS_DTYPE\n",
      "File \u001b[0;32m/usr/local/lib/python3.11/site-packages/pandas/core/arrays/datetimes.py:2412\u001b[0m, in \u001b[0;36mmaybe_convert_dtype\u001b[0;34m(data, copy, tz)\u001b[0m\n\u001b[1;32m   2408\u001b[0m     copy \u001b[39m=\u001b[39m \u001b[39mFalse\u001b[39;00m\n\u001b[1;32m   2410\u001b[0m \u001b[39melif\u001b[39;00m lib\u001b[39m.\u001b[39mis_np_dtype(data\u001b[39m.\u001b[39mdtype, \u001b[39m\"\u001b[39m\u001b[39mm\u001b[39m\u001b[39m\"\u001b[39m) \u001b[39mor\u001b[39;00m is_bool_dtype(data\u001b[39m.\u001b[39mdtype):\n\u001b[1;32m   2411\u001b[0m     \u001b[39m# GH#29794 enforcing deprecation introduced in GH#23539\u001b[39;00m\n\u001b[0;32m-> 2412\u001b[0m     \u001b[39mraise\u001b[39;00m \u001b[39mTypeError\u001b[39;00m(\u001b[39mf\u001b[39m\u001b[39m\"\u001b[39m\u001b[39mdtype \u001b[39m\u001b[39m{\u001b[39;00mdata\u001b[39m.\u001b[39mdtype\u001b[39m}\u001b[39;00m\u001b[39m cannot be converted to datetime64[ns]\u001b[39m\u001b[39m\"\u001b[39m)\n\u001b[1;32m   2413\u001b[0m \u001b[39melif\u001b[39;00m \u001b[39misinstance\u001b[39m(data\u001b[39m.\u001b[39mdtype, PeriodDtype):\n\u001b[1;32m   2414\u001b[0m     \u001b[39m# Note: without explicitly raising here, PeriodIndex\u001b[39;00m\n\u001b[1;32m   2415\u001b[0m     \u001b[39m#  test_setops.test_join_does_not_recur fails\u001b[39;00m\n\u001b[1;32m   2416\u001b[0m     \u001b[39mraise\u001b[39;00m \u001b[39mTypeError\u001b[39;00m(\n\u001b[1;32m   2417\u001b[0m         \u001b[39m\"\u001b[39m\u001b[39mPassing PeriodDtype data is invalid. Use `data.to_timestamp()` instead\u001b[39m\u001b[39m\"\u001b[39m\n\u001b[1;32m   2418\u001b[0m     )\n",
      "\u001b[0;31mTypeError\u001b[0m: dtype timedelta64[ns] cannot be converted to datetime64[ns]"
     ]
    }
   ],
   "source": [
    "# Test Data with ts input\n",
    "\n",
    "# Create a testing dataframe having an id, datetime of 15 min intervals, observed and modeled values \n",
    "num_intervals = 4 * 24 * 365  # 4 intervals/hour * 24 hours/day * 365 days\n",
    "\n",
    "# Create a DataFrame with 'id', 'datetime', 'observed', and 'modeled' columns\n",
    "df = pd.DataFrame({\n",
    "    'id': np.repeat(['id1', 'id2', 'id3'], num_intervals),  # only 3 ids for easier comparison\n",
    "    'datetime': pd.date_range(start='2023-01-01', periods=num_intervals, freq='15T').tolist() * 3, \n",
    "    'observed': np.random.rand(num_intervals * 3),  # randomized\n",
    "    'modeled': np.random.rand(num_intervals * 3)  # randomized\n",
    "})\n",
    "\n",
    "df_features = pd.DataFrame({\n",
    "    'id': ['id1', 'id2', 'id3'],  # only 3 ids for easier comparison\n",
    "    'feature1': np.random.rand(3),  # randomized\n",
    "    'feature2': [None, *np.random.rand(2)]  # randomized\n",
    "    # 'feature2': *np.random.rand(3)  # randomized\n",
    "})\n",
    "\n",
    "data = Data()\n",
    "data.set_data(time_series_df=df, features_df=df_features)\n",
    "data.loadshape\n",
    "# data.features\n",
    "data.excluded_ids"
   ]
  },
  {
   "cell_type": "code",
   "execution_count": 20,
   "metadata": {},
   "outputs": [
    {
     "ename": "AttributeError",
     "evalue": "'NoneType' object has no attribute 'distance_metric'",
     "output_type": "error",
     "traceback": [
      "\u001b[0;31m---------------------------------------------------------------------------\u001b[0m",
      "\u001b[0;31mAttributeError\u001b[0m                            Traceback (most recent call last)",
      "\u001b[1;32m/app/applied_data_science/gridmeter/gridmeter/gridmeter/scratch.ipynb Cell 4\u001b[0m line \u001b[0;36m4\n\u001b[1;32m      <a href='vscode-notebook-cell://attached-container%2B7b22636f6e7461696e65724e616d65223a222f6170706c6965645f646174615f736369656e63655f6170706c6965645f646174615f736369656e63655f72756e5f353238663430623035383635227d@ssh-remote%2B7b22686f73744e616d65223a227072696d6172795f564d227d/app/applied_data_science/gridmeter/gridmeter/gridmeter/scratch.ipynb#W4sdnNjb2RlLXJlbW90ZQ%3D%3D?line=0'>1</a>\u001b[0m \u001b[39m# Test IMM\u001b[39;00m\n\u001b[1;32m      <a href='vscode-notebook-cell://attached-container%2B7b22636f6e7461696e65724e616d65223a222f6170706c6965645f646174615f736369656e63655f6170706c6965645f646174615f736369656e63655f72756e5f353238663430623035383635227d@ssh-remote%2B7b22686f73744e616d65223a227072696d6172795f564d227d/app/applied_data_science/gridmeter/gridmeter/gridmeter/scratch.ipynb#W4sdnNjb2RlLXJlbW90ZQ%3D%3D?line=2'>3</a>\u001b[0m imm_settings \u001b[39m=\u001b[39m IMM_Settings()\n\u001b[0;32m----> <a href='vscode-notebook-cell://attached-container%2B7b22636f6e7461696e65724e616d65223a222f6170706c6965645f646174615f736369656e63655f6170706c6965645f646174615f736369656e63655f72756e5f353238663430623035383635227d@ssh-remote%2B7b22686f73744e616d65223a227072696d6172795f564d227d/app/applied_data_science/gridmeter/gridmeter/gridmeter/scratch.ipynb#W4sdnNjb2RlLXJlbW90ZQ%3D%3D?line=3'>4</a>\u001b[0m df_cg, df_t_coeffs \u001b[39m=\u001b[39m IMM()\u001b[39m.\u001b[39mget_comparison_group(treatment_data, comparison_pool_data)\n",
      "File \u001b[0;32m/app/applied_data_science/gridmeter/gridmeter/gridmeter/_individual_meter_matching/create_comparison_groups.py:22\u001b[0m, in \u001b[0;36mIndividual_Meter_Matching.__init__\u001b[0;34m(self, settings)\u001b[0m\n\u001b[1;32m     18\u001b[0m     \u001b[39mself\u001b[39m\u001b[39m.\u001b[39msettings \u001b[39m=\u001b[39m Settings()\n\u001b[1;32m     20\u001b[0m \u001b[39mself\u001b[39m\u001b[39m.\u001b[39msettings \u001b[39m=\u001b[39m settings\n\u001b[0;32m---> 22\u001b[0m \u001b[39mself\u001b[39m\u001b[39m.\u001b[39mdist_metric \u001b[39m=\u001b[39m settings\u001b[39m.\u001b[39;49mdistance_metric\n\u001b[1;32m     23\u001b[0m \u001b[39mif\u001b[39;00m \u001b[39mself\u001b[39m\u001b[39m.\u001b[39mdist_metric \u001b[39m==\u001b[39m \u001b[39m\"\u001b[39m\u001b[39mmanhattan\u001b[39m\u001b[39m\"\u001b[39m:\n\u001b[1;32m     24\u001b[0m     \u001b[39mself\u001b[39m\u001b[39m.\u001b[39mdist_metric \u001b[39m=\u001b[39m \u001b[39m\"\u001b[39m\u001b[39mcityblock\u001b[39m\u001b[39m\"\u001b[39m\n",
      "\u001b[0;31mAttributeError\u001b[0m: 'NoneType' object has no attribute 'distance_metric'"
     ]
    }
   ],
   "source": [
    "# Test IMM\n",
    "\n",
    "imm_settings = IMM_Settings()\n",
    "df_cg, df_t_coeffs = IMM(imm_settings).get_comparison_group(treatment_data, comparison_pool_data)"
   ]
  },
  {
   "cell_type": "code",
   "execution_count": null,
   "metadata": {},
   "outputs": [],
   "source": [
    "from gridmeter._utils.calculate_distances import calculate_distances\n",
    "from copy import deepcopy as copy\n",
    "\n",
    "def TestDistanceMatching(\n",
    "    df_ls_t,\n",
    "    df_ls_c,\n",
    "    n_matches_per_treatment=4,\n",
    "    distance_metric=\"euclidean\",\n",
    "    allow_duplicate_match=True,\n",
    "    replace_duplicate_method=None,  # currently unused [None, \"closest_to_meter\", \"closest_global\"]\n",
    "    max_distance_threshold=None,\n",
    "    n_match_multiplier=None,\n",
    "    n_meters_per_chunk=10000,\n",
    "):\n",
    "    ls_t = df_ls_t.to_numpy()\n",
    "    ls_cp = df_ls_c.to_numpy()\n",
    "\n",
    "    n_matches_per_chunk = copy(n_matches_per_treatment)\n",
    "\n",
    "    # Calculate closest distances\n",
    "    if n_match_multiplier is None:\n",
    "        n_matches_per_chunk = None\n",
    "\n",
    "    if n_match_multiplier is not None:\n",
    "        if (not allow_duplicate_match and replace_duplicate_method is not None) or max_distance_threshold is not None:\n",
    "            n_matches_per_chunk *= n_match_multiplier\n",
    "\n",
    "        if n_matches_per_chunk > ls_cp.shape[0]:\n",
    "            n_matches_per_chunk = ls_cp.shape[0]\n",
    "\n",
    "    cp_id_idx, dist = calculate_distances(\n",
    "        ls_t, ls_cp, distance_metric, n_matches_per_chunk, n_meters_per_chunk\n",
    "    )\n",
    "\n",
    "    print(dist.shape)\n",
    "    print(cp_id_idx.shape)\n",
    "\n",
    "    # create dataframes\n",
    "    id_t = df_ls_t.index.values\n",
    "    id_c = df_ls_c.index.values\n",
    "\n",
    "    print(np.repeat(id_t, dist.shape[1]))\n",
    "\n",
    "    series_t = pd.Series(np.repeat(id_t, dist.shape[1]), name=\"treatment\")\n",
    "    series_cp = pd.Series(id_c[cp_id_idx.flatten()], name=\"id\")\n",
    "    clusters = pd.DataFrame(\n",
    "        dist.flatten(), index=[series_t, series_cp], columns=[\"distance\"]\n",
    "    )\n",
    "    clusters = clusters.reset_index()\n",
    "    clusters[\"duplicated\"] = clusters.duplicated(subset=[\"id\"])\n",
    "    clusters[\"cluster\"] = 1\n",
    "    clusters = clusters.set_index(\"id\")\n",
    "    \n",
    "    if allow_duplicate_match:\n",
    "        clusters = clusters.sort_values(by=[\"treatment\", \"distance\"])\n",
    "\n",
    "        # for each index, get 4 smallest distances\n",
    "        clusters = clusters.groupby(\"treatment\").head(n_matches_per_treatment)\n",
    "\n",
    "    else:\n",
    "        # get count of treatment and id pairs\n",
    "        # t_id_counts = clusters.groupby([\"treatment\", \"id\"]).size()\n",
    "        # print(t_id_counts)\n",
    "\n",
    "        # drop duplicate index\n",
    "        clusters = clusters[~clusters.index.duplicated(keep='first')]\n",
    "\n",
    "        if replace_duplicate_method is not None:\n",
    "            raise NotImplementedError(\n",
    "                \"'replace_duplicate_meters': True not implemented\"\n",
    "            )\n",
    "\n",
    "    return clusters\n",
    "\n",
    "\n",
    "def get_comparison_group(df_ls_t, df_ls_cp, weights=None, **kwargs):\n",
    "    df_cg = TestDistanceMatching(df_ls_t, df_ls_cp, **kwargs)\n",
    "\n",
    "    # Create df_t_coeffs\n",
    "    t_ids = df_ls_t.index.unique()\n",
    "    coeffs = np.ones(t_ids.values.size)\n",
    "\n",
    "    df_t_coeffs = pd.DataFrame(coeffs, index=t_ids, columns=[\"pct_cluster_1\"])\n",
    "    df_t_coeffs.index.name = \"id\"\n",
    "\n",
    "    return df_cg, df_t_coeffs"
   ]
  },
  {
   "cell_type": "code",
   "execution_count": null,
   "metadata": {},
   "outputs": [],
   "source": [
    "df_cg, df_t_coeffs = get_comparison_group(df_ls_t_mod, df_ls_cp_mod, allow_duplicate_match=True, n_match_multiplier=2)\n",
    "df_cg.reset_index().sort_values(by=[\"treatment\", \"id\", \"distance\"])"
   ]
  },
  {
   "cell_type": "code",
   "execution_count": null,
   "metadata": {},
   "outputs": [],
   "source": [
    "df_cg.sort_values([\"treatment\", \"distance\"])"
   ]
  },
  {
   "cell_type": "code",
   "execution_count": null,
   "metadata": {},
   "outputs": [],
   "source": [
    "df_ls_t"
   ]
  },
  {
   "cell_type": "code",
   "execution_count": null,
   "metadata": {},
   "outputs": [],
   "source": [
    "df_ls_t_mod.stack().reset_index().rename(columns={0: \"ls\"})"
   ]
  },
  {
   "cell_type": "code",
   "execution_count": null,
   "metadata": {},
   "outputs": [],
   "source": [
    "# Test Clustering\n",
    "\n",
    "clustering_settings = Clustering_Settings()\n",
    "df_cg, df_t_coeffs = Clustering(clustering_settings).get_comparison_group(df_ls_t_mod, df_ls_cp_mod)\n",
    "df_cg"
   ]
  },
  {
   "cell_type": "code",
   "execution_count": null,
   "metadata": {},
   "outputs": [],
   "source": [
    "df_t_coeffs"
   ]
  }
 ],
 "metadata": {
  "interpreter": {
   "hash": "949777d72b0d2535278d3dc13498b2535136f6dfe0678499012e853ee9abcab1"
  },
  "kernelspec": {
   "display_name": "Python 3.8.12 64-bit",
   "language": "python",
   "name": "python3"
  },
  "language_info": {
   "codemirror_mode": {
    "name": "ipython",
    "version": 3
   },
   "file_extension": ".py",
   "mimetype": "text/x-python",
   "name": "python",
   "nbconvert_exporter": "python",
   "pygments_lexer": "ipython3",
   "version": "3.11.4"
  }
 },
 "nbformat": 4,
 "nbformat_minor": 4
}
