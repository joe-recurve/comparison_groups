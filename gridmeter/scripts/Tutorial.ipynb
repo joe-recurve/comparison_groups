{
 "cells": [
  {
   "cell_type": "markdown",
   "metadata": {},
   "source": [
    "# Getting starting with the GRIDmeter™ library\n",
    "\n",
    "This jupyter notebook is an interactive tutorial. It walks through loading data, running the stratified sampling model, and plotting results. You'll run all the code yourself. Cells can be executed with `<shift><enter>`. If you feel so inspired, make edits to the code in these cells and dig deeper.\n",
    "\n",
    "\n",
    "    "
   ]
  },
  {
   "cell_type": "markdown",
   "metadata": {},
   "source": [
    "# Background -- why this library\n",
    "\n",
    "The `gridmeter` library originated from a project lead by Recurve Analytics, Inc. and funded by the US Dept. of Energy designed to identify practical methods for analyzing energy efficiency which are robust to external shocks (e.g. COVID-19).  From June through September 2020, Recurve hosted a series of meetings with industry stakeholders to discuss methods for constructing comparison groups, with the goal of presenting a recommended standard method to the GRID working group, a subsidiary of the Linux Foundation for Energy.  During this time, Recurve developed Python software to implement stratified sampling and demonstrate its effectiveness in practice.  The `gridmeter` library is the open-source Apache-licensed output of this process and is available to be used by anyone. \n",
    "\n",
    "This notebook will take you through several things that this library can do.\n"
   ]
  },
  {
   "cell_type": "markdown",
   "metadata": {},
   "source": [
    "## Note on tutorial scope and related libraries\n",
    "\n",
    "This tutorial assumes the reader has properly installed python and has a basic working knowledge of python syntax and usage. \n",
    "\n",
    "The `gridmeter` library uses `pandas` data frames as its principle way of representing data, therefore all inputs and outputs are data frames; see [this tutorial](https://pandas.pydata.org/pandas-docs/stable/user_guide/10min.html) for information on how to use `pandas`.  The `plotnine` library is used to make visualizations which can be embedded in a Jupyter notebook or saved as .pngs; see [this website](https://plotnine.readthedocs.io/en/stable/) for information on `plotnine`."
   ]
  },
  {
   "cell_type": "code",
   "execution_count": 1,
   "metadata": {},
   "outputs": [],
   "source": [
    "import subprocess\n",
    "import sys\n",
    "\n",
    "for package in ['gridmeter', 'pandas', 'plotnine']:\n",
    "    try:\n",
    "        __import__(package)\n",
    "    except ImportError:\n",
    "        subprocess.check_call([sys.executable, \"-m\", \"pip\", \"install\", package])\n",
    "\n",
    "import numpy as np\n",
    "import pandas as pd\n",
    "import matplotlib.pyplot as plt\n",
    "import plotnine as pn\n",
    "import gridmeter as gm"
   ]
  },
  {
   "cell_type": "markdown",
   "metadata": {},
   "source": [
    "## Viewing documentation\n",
    "\n",
    "You can view code documentation by appending a question mark to a function and then executing that code, as in the following example:"
   ]
  },
  {
   "cell_type": "code",
   "execution_count": 2,
   "metadata": {},
   "outputs": [
    {
     "name": "stdout",
     "output_type": "stream",
     "text": [
      "\u001b[0;31mInit signature:\u001b[0m \u001b[0mgm\u001b[0m\u001b[0;34m.\u001b[0m\u001b[0mStratified_Sampling\u001b[0m\u001b[0;34m(\u001b[0m\u001b[0msettings\u001b[0m\u001b[0;34m:\u001b[0m \u001b[0;34m'Settings | None'\u001b[0m \u001b[0;34m=\u001b[0m \u001b[0;32mNone\u001b[0m\u001b[0;34m)\u001b[0m\u001b[0;34m\u001b[0m\u001b[0;34m\u001b[0m\u001b[0m\n",
      "\u001b[0;31mDocstring:\u001b[0m      <no docstring>\n",
      "\u001b[0;31mFile:\u001b[0m           /app/applied_data_science/gridmeter/gridmeter/gridmeter/_stratified_sampling/create_comparison_groups.py\n",
      "\u001b[0;31mType:\u001b[0m           type\n",
      "\u001b[0;31mSubclasses:\u001b[0m     "
     ]
    }
   ],
   "source": [
    "gm.Stratified_Sampling?"
   ]
  },
  {
   "cell_type": "markdown",
   "metadata": {},
   "source": [
    "# Problem definition\n",
    "\n",
    "Typically one begins with two populations of meters: a **treatment group**, and a **comparison pool**.  The treatment group consists of those meters for which savings needs to be tracked, e.g. if they represent customers participating in an energy efficiency program.  The comparison pool consists of all of the available meters that are not part of the treatment group.  The goal is to select a **comparison group** which is a subset of the comparison pool, such that the control group is **similar** to the treatment group.  The comparison group will then provide a realistic counterfactual compared to the treatment group and can be used to accurately estimate the impact of a program."
   ]
  },
  {
   "cell_type": "markdown",
   "metadata": {},
   "source": [
    "# Setting up tutorial data\n",
    "\n",
    "Ordinarily you would start with your own time-series meter data, but for our purposes we'll generate some very basic dummy data.  `gridmeter` provides some functions which generate populations of dummy meters with randomly varying base and peak usage levels.  We'll use the following code to generate a population of 1000 treatment meters and 10000 comparison pool meters, and specify some consumption values for the treatment group that differ from the default, so that the groups are differently distributed.  The treatment group is specified by filtering the comparison pool along one of the available features (currently `winter_usage`, `summer_uage`, and `annual_usage`).  For this example, we'll assume our treatment group targets customers with usage above the 50th percentile in both summer and winter.\n",
    "\n",
    "Once the population has been generated, we can create feature data and longitudinal data.  These functions take a few minutes to run upon first execution, but the results are cached to disk so subsequent runs will be fast.\n",
    "\n",
    "Note: the structure of the dataframes is extremely important going forward."
   ]
  },
  {
   "cell_type": "code",
   "execution_count": 3,
   "metadata": {},
   "outputs": [
    {
     "name": "stderr",
     "output_type": "stream",
     "text": [
      "INFO:root:Caching objects to .cache\n"
     ]
    }
   ],
   "source": [
    "# Loadshape and feature data\n",
    "\n",
    "n_treatment = 100\n",
    "n_pool = 1000\n",
    "\n",
    "filter = lambda df: df[(df.summer_usage > df.summer_usage.quantile(0.5)) & (df.winter_usage > df.winter_usage.quantile(0.5))]\n",
    "population = gm.DummyTreatmentPoolPopulation(n_treatment=n_treatment, n_pool=n_pool, \n",
    "                                              treatment_filter_function=filter)\n",
    "\n",
    "df_features= population.features()\n",
    "df_features_pool = df_features[df_features['set']=='pool']\n",
    "df_features_treatment = df_features[df_features['set']=='treatment']\n",
    "df_loadshape = population.features_monthly()\n",
    "\n",
    "df_features_pool = df_features_pool.rename(columns={'meter_id':'id'}).drop(columns=['set'])\n",
    "df_ls_pool = df_loadshape.loc[df_features_pool[\"id\"]]\n",
    "df_ls_pool = df_ls_pool.stack().reset_index().rename(columns={'meter_id':'id', 'month':'time', 0:'loadshape'})\n",
    "\n",
    "df_features_treatment = df_features_treatment.rename(columns={'meter_id':'id'}).drop(columns=['set'])\n",
    "df_ls_treatment = df_loadshape.loc[df_features_treatment[\"id\"]]\n",
    "df_ls_treatment = df_ls_treatment.stack().reset_index().rename(columns={'meter_id':'id', 'month':'time', 0:'loadshape'})\n",
    "\n",
    "# Fake time series data\n",
    "# Create a testing dataframe having an id, datetime of 1 month intervals, observed and modeled values \n",
    "num_intervals = 12  # 1 per month\n",
    "\n",
    "# Create a DataFrame with 'id', 'datetime', 'observed', and 'modeled' columns\n",
    "df_ts_treatment = pd.DataFrame({\n",
    "    'id': np.repeat(df_features_treatment[\"id\"].values, num_intervals),  # only 3 ids for easier comparison\n",
    "    'datetime': pd.date_range(start='2023-01-01', periods=num_intervals, freq='M').tolist() * n_treatment, \n",
    "    'observed': np.random.rand(num_intervals * n_treatment),  # randomized\n",
    "    'modeled': np.random.rand(num_intervals * n_treatment)  # randomized\n",
    "})"
   ]
  },
  {
   "cell_type": "code",
   "execution_count": 4,
   "metadata": {},
   "outputs": [
    {
     "name": "stdout",
     "output_type": "stream",
     "text": [
      "Loadshape dataframe format:\n"
     ]
    },
    {
     "data": {
      "text/html": [
       "<div>\n",
       "<style scoped>\n",
       "    .dataframe tbody tr th:only-of-type {\n",
       "        vertical-align: middle;\n",
       "    }\n",
       "\n",
       "    .dataframe tbody tr th {\n",
       "        vertical-align: top;\n",
       "    }\n",
       "\n",
       "    .dataframe thead th {\n",
       "        text-align: right;\n",
       "    }\n",
       "</style>\n",
       "<table border=\"1\" class=\"dataframe\">\n",
       "  <thead>\n",
       "    <tr style=\"text-align: right;\">\n",
       "      <th></th>\n",
       "      <th>id</th>\n",
       "      <th>time</th>\n",
       "      <th>loadshape</th>\n",
       "    </tr>\n",
       "  </thead>\n",
       "  <tbody>\n",
       "    <tr>\n",
       "      <th>0</th>\n",
       "      <td>meter_8</td>\n",
       "      <td>1</td>\n",
       "      <td>1715.839526</td>\n",
       "    </tr>\n",
       "    <tr>\n",
       "      <th>1</th>\n",
       "      <td>meter_8</td>\n",
       "      <td>2</td>\n",
       "      <td>1526.409037</td>\n",
       "    </tr>\n",
       "    <tr>\n",
       "      <th>2</th>\n",
       "      <td>meter_8</td>\n",
       "      <td>3</td>\n",
       "      <td>1693.203681</td>\n",
       "    </tr>\n",
       "    <tr>\n",
       "      <th>3</th>\n",
       "      <td>meter_8</td>\n",
       "      <td>4</td>\n",
       "      <td>1356.354862</td>\n",
       "    </tr>\n",
       "    <tr>\n",
       "      <th>4</th>\n",
       "      <td>meter_8</td>\n",
       "      <td>5</td>\n",
       "      <td>1369.432251</td>\n",
       "    </tr>\n",
       "  </tbody>\n",
       "</table>\n",
       "</div>"
      ],
      "text/plain": [
       "        id  time    loadshape\n",
       "0  meter_8     1  1715.839526\n",
       "1  meter_8     2  1526.409037\n",
       "2  meter_8     3  1693.203681\n",
       "3  meter_8     4  1356.354862\n",
       "4  meter_8     5  1369.432251"
      ]
     },
     "execution_count": 4,
     "metadata": {},
     "output_type": "execute_result"
    }
   ],
   "source": [
    "# Loadshape dataframe format, columns: [id, time, loadshape]\n",
    "# time depends on whatever you have aggregated to\n",
    "\n",
    "print(\"Loadshape dataframe format:\")\n",
    "df_ls_treatment.head()"
   ]
  },
  {
   "cell_type": "code",
   "execution_count": 5,
   "metadata": {},
   "outputs": [
    {
     "name": "stdout",
     "output_type": "stream",
     "text": [
      "Time series dataframe format:\n"
     ]
    },
    {
     "data": {
      "text/html": [
       "<div>\n",
       "<style scoped>\n",
       "    .dataframe tbody tr th:only-of-type {\n",
       "        vertical-align: middle;\n",
       "    }\n",
       "\n",
       "    .dataframe tbody tr th {\n",
       "        vertical-align: top;\n",
       "    }\n",
       "\n",
       "    .dataframe thead th {\n",
       "        text-align: right;\n",
       "    }\n",
       "</style>\n",
       "<table border=\"1\" class=\"dataframe\">\n",
       "  <thead>\n",
       "    <tr style=\"text-align: right;\">\n",
       "      <th></th>\n",
       "      <th>id</th>\n",
       "      <th>datetime</th>\n",
       "      <th>observed</th>\n",
       "      <th>modeled</th>\n",
       "    </tr>\n",
       "  </thead>\n",
       "  <tbody>\n",
       "    <tr>\n",
       "      <th>0</th>\n",
       "      <td>meter_8</td>\n",
       "      <td>2023-01-31</td>\n",
       "      <td>0.234517</td>\n",
       "      <td>0.431976</td>\n",
       "    </tr>\n",
       "    <tr>\n",
       "      <th>1</th>\n",
       "      <td>meter_8</td>\n",
       "      <td>2023-02-28</td>\n",
       "      <td>0.455931</td>\n",
       "      <td>0.998989</td>\n",
       "    </tr>\n",
       "    <tr>\n",
       "      <th>2</th>\n",
       "      <td>meter_8</td>\n",
       "      <td>2023-03-31</td>\n",
       "      <td>0.841495</td>\n",
       "      <td>0.351410</td>\n",
       "    </tr>\n",
       "    <tr>\n",
       "      <th>3</th>\n",
       "      <td>meter_8</td>\n",
       "      <td>2023-04-30</td>\n",
       "      <td>0.654993</td>\n",
       "      <td>0.679868</td>\n",
       "    </tr>\n",
       "    <tr>\n",
       "      <th>4</th>\n",
       "      <td>meter_8</td>\n",
       "      <td>2023-05-31</td>\n",
       "      <td>0.729565</td>\n",
       "      <td>0.870597</td>\n",
       "    </tr>\n",
       "  </tbody>\n",
       "</table>\n",
       "</div>"
      ],
      "text/plain": [
       "        id   datetime  observed   modeled\n",
       "0  meter_8 2023-01-31  0.234517  0.431976\n",
       "1  meter_8 2023-02-28  0.455931  0.998989\n",
       "2  meter_8 2023-03-31  0.841495  0.351410\n",
       "3  meter_8 2023-04-30  0.654993  0.679868\n",
       "4  meter_8 2023-05-31  0.729565  0.870597"
      ]
     },
     "execution_count": 5,
     "metadata": {},
     "output_type": "execute_result"
    }
   ],
   "source": [
    "# Time Series dataframe format, columns: [id, datetime, Optional[observed], Optional[modeled], Optional[error]]\n",
    "# observed, modeled, and error are optional, but at least one must be present\n",
    "# if you are using observed and modeled to calculate error, then you must have both observed and modeled\n",
    "\n",
    "print(\"Time series dataframe format:\")\n",
    "df_ts_treatment.head()"
   ]
  },
  {
   "cell_type": "code",
   "execution_count": 6,
   "metadata": {},
   "outputs": [
    {
     "name": "stdout",
     "output_type": "stream",
     "text": [
      "Features dataframe format:\n"
     ]
    },
    {
     "data": {
      "text/html": [
       "<div>\n",
       "<style scoped>\n",
       "    .dataframe tbody tr th:only-of-type {\n",
       "        vertical-align: middle;\n",
       "    }\n",
       "\n",
       "    .dataframe tbody tr th {\n",
       "        vertical-align: top;\n",
       "    }\n",
       "\n",
       "    .dataframe thead th {\n",
       "        text-align: right;\n",
       "    }\n",
       "</style>\n",
       "<table border=\"1\" class=\"dataframe\">\n",
       "  <thead>\n",
       "    <tr style=\"text-align: right;\">\n",
       "      <th></th>\n",
       "      <th>id</th>\n",
       "      <th>winter_usage</th>\n",
       "      <th>summer_usage</th>\n",
       "      <th>annual_usage</th>\n",
       "    </tr>\n",
       "  </thead>\n",
       "  <tbody>\n",
       "    <tr>\n",
       "      <th>8</th>\n",
       "      <td>meter_8</td>\n",
       "      <td>4471.119636</td>\n",
       "      <td>4178.528812</td>\n",
       "      <td>16789.467345</td>\n",
       "    </tr>\n",
       "    <tr>\n",
       "      <th>31</th>\n",
       "      <td>meter_31</td>\n",
       "      <td>4758.167137</td>\n",
       "      <td>4224.936325</td>\n",
       "      <td>18369.772968</td>\n",
       "    </tr>\n",
       "    <tr>\n",
       "      <th>37</th>\n",
       "      <td>meter_37</td>\n",
       "      <td>4655.875657</td>\n",
       "      <td>4081.356379</td>\n",
       "      <td>18643.625942</td>\n",
       "    </tr>\n",
       "    <tr>\n",
       "      <th>43</th>\n",
       "      <td>meter_43</td>\n",
       "      <td>4508.469874</td>\n",
       "      <td>4146.107295</td>\n",
       "      <td>16636.552913</td>\n",
       "    </tr>\n",
       "    <tr>\n",
       "      <th>47</th>\n",
       "      <td>meter_47</td>\n",
       "      <td>4536.487872</td>\n",
       "      <td>4143.014120</td>\n",
       "      <td>16913.873090</td>\n",
       "    </tr>\n",
       "  </tbody>\n",
       "</table>\n",
       "</div>"
      ],
      "text/plain": [
       "          id  winter_usage  summer_usage  annual_usage\n",
       "8    meter_8   4471.119636   4178.528812  16789.467345\n",
       "31  meter_31   4758.167137   4224.936325  18369.772968\n",
       "37  meter_37   4655.875657   4081.356379  18643.625942\n",
       "43  meter_43   4508.469874   4146.107295  16636.552913\n",
       "47  meter_47   4536.487872   4143.014120  16913.873090"
      ]
     },
     "execution_count": 6,
     "metadata": {},
     "output_type": "execute_result"
    }
   ],
   "source": [
    "# Features dataframe format, columns: [id, feature1, feature2, ...]\n",
    "# features can be named whatever you like and you may include as many as you like\n",
    "\n",
    "print(\"Features dataframe format:\")\n",
    "df_features_treatment.head()"
   ]
  },
  {
   "cell_type": "markdown",
   "metadata": {},
   "source": [
    "# Setting up data\n",
    "\n",
    "Gridmeter uses the `Data` class as the inputs to all of the comparison group methods. Its purpose is to validate your data and to perform the necessary transformations to go into the comparison group methods. `Data` is instantiated with `Data_Settings`. Once instantiated the method `.set_data` can be called using one of `loadshape_df` and `time_series_df` as well as `features_df` depending upon your needs. If you input `time_series_df` it will compute the loadshape.\n",
    "\n",
    "Method requirements:\n",
    "- Clustering: Loadshape\n",
    "- Individual Meter Matching: Loadshape\n",
    "- Stratified Sampling: Loadshape/Features (depends upon settings)"
   ]
  },
  {
   "cell_type": "code",
   "execution_count": 7,
   "metadata": {},
   "outputs": [],
   "source": [
    "data_settings = gm.Data_Settings(time_period='month')"
   ]
  },
  {
   "cell_type": "code",
   "execution_count": 8,
   "metadata": {},
   "outputs": [
    {
     "data": {
      "text/html": [
       "<div>\n",
       "<style scoped>\n",
       "    .dataframe tbody tr th:only-of-type {\n",
       "        vertical-align: middle;\n",
       "    }\n",
       "\n",
       "    .dataframe tbody tr th {\n",
       "        vertical-align: top;\n",
       "    }\n",
       "\n",
       "    .dataframe thead th {\n",
       "        text-align: right;\n",
       "    }\n",
       "</style>\n",
       "<table border=\"1\" class=\"dataframe\">\n",
       "  <thead>\n",
       "    <tr style=\"text-align: right;\">\n",
       "      <th></th>\n",
       "      <th>id</th>\n",
       "      <th>reason</th>\n",
       "    </tr>\n",
       "  </thead>\n",
       "  <tbody>\n",
       "    <tr>\n",
       "      <th>0</th>\n",
       "      <td>meter_100</td>\n",
       "      <td>missing minimum number of values in loadshape_df</td>\n",
       "    </tr>\n",
       "    <tr>\n",
       "      <th>1</th>\n",
       "      <td>meter_1010</td>\n",
       "      <td>missing minimum number of values in loadshape_df</td>\n",
       "    </tr>\n",
       "    <tr>\n",
       "      <th>2</th>\n",
       "      <td>meter_1012</td>\n",
       "      <td>missing minimum number of values in loadshape_df</td>\n",
       "    </tr>\n",
       "    <tr>\n",
       "      <th>3</th>\n",
       "      <td>meter_1016</td>\n",
       "      <td>missing minimum number of values in loadshape_df</td>\n",
       "    </tr>\n",
       "    <tr>\n",
       "      <th>4</th>\n",
       "      <td>meter_102</td>\n",
       "      <td>missing minimum number of values in loadshape_df</td>\n",
       "    </tr>\n",
       "    <tr>\n",
       "      <th>...</th>\n",
       "      <td>...</td>\n",
       "      <td>...</td>\n",
       "    </tr>\n",
       "    <tr>\n",
       "      <th>95</th>\n",
       "      <td>meter_961</td>\n",
       "      <td>missing minimum number of values in loadshape_df</td>\n",
       "    </tr>\n",
       "    <tr>\n",
       "      <th>96</th>\n",
       "      <td>meter_970</td>\n",
       "      <td>missing minimum number of values in loadshape_df</td>\n",
       "    </tr>\n",
       "    <tr>\n",
       "      <th>97</th>\n",
       "      <td>meter_98</td>\n",
       "      <td>missing minimum number of values in loadshape_df</td>\n",
       "    </tr>\n",
       "    <tr>\n",
       "      <th>98</th>\n",
       "      <td>meter_987</td>\n",
       "      <td>missing minimum number of values in loadshape_df</td>\n",
       "    </tr>\n",
       "    <tr>\n",
       "      <th>99</th>\n",
       "      <td>meter_996</td>\n",
       "      <td>missing minimum number of values in loadshape_df</td>\n",
       "    </tr>\n",
       "  </tbody>\n",
       "</table>\n",
       "<p>100 rows × 2 columns</p>\n",
       "</div>"
      ],
      "text/plain": [
       "            id                                            reason\n",
       "0    meter_100  missing minimum number of values in loadshape_df\n",
       "1   meter_1010  missing minimum number of values in loadshape_df\n",
       "2   meter_1012  missing minimum number of values in loadshape_df\n",
       "3   meter_1016  missing minimum number of values in loadshape_df\n",
       "4    meter_102  missing minimum number of values in loadshape_df\n",
       "..         ...                                               ...\n",
       "95   meter_961  missing minimum number of values in loadshape_df\n",
       "96   meter_970  missing minimum number of values in loadshape_df\n",
       "97    meter_98  missing minimum number of values in loadshape_df\n",
       "98   meter_987  missing minimum number of values in loadshape_df\n",
       "99   meter_996  missing minimum number of values in loadshape_df\n",
       "\n",
       "[100 rows x 2 columns]"
      ]
     },
     "execution_count": 8,
     "metadata": {},
     "output_type": "execute_result"
    }
   ],
   "source": [
    "# Let's make an invalid entry to see what happens\n",
    "df_ts_treatment.loc[0, 'observed'] = np.nan\n",
    "\n",
    "ts_data = gm.Data().set_data(time_series_df=df_ts_treatment)\n",
    "\n",
    "ts_data.get_excluded_ids()"
   ]
  },
  {
   "cell_type": "code",
   "execution_count": 9,
   "metadata": {},
   "outputs": [
    {
     "data": {
      "text/plain": [
       "<gridmeter._utils.data_processing.Data at 0x7feb41ed3390>"
      ]
     },
     "execution_count": 9,
     "metadata": {},
     "output_type": "execute_result"
    }
   ],
   "source": [
    "# Set data classes\n",
    "# for the purposes of this tutorial, we'll set both loadshapes and features\n",
    "\n",
    "data_settings = gm.Data_Settings(AGG_TYPE=None, LOADSHAPE_TYPE=None, TIME_PERIOD=None)\n",
    "\n",
    "pool_data = gm.Data(data_settings)\n",
    "pool_data.set_data(loadshape_df=df_ls_pool, features_df=df_features_pool)\n",
    "\n",
    "treatment_data = gm.Data(data_settings)\n",
    "treatment_data.set_data(loadshape_df=df_ls_treatment, features_df=df_features_treatment)"
   ]
  },
  {
   "cell_type": "code",
   "execution_count": 10,
   "metadata": {},
   "outputs": [
    {
     "data": {
      "text/html": [
       "<div>\n",
       "<style scoped>\n",
       "    .dataframe tbody tr th:only-of-type {\n",
       "        vertical-align: middle;\n",
       "    }\n",
       "\n",
       "    .dataframe tbody tr th {\n",
       "        vertical-align: top;\n",
       "    }\n",
       "\n",
       "    .dataframe thead th {\n",
       "        text-align: right;\n",
       "    }\n",
       "</style>\n",
       "<table border=\"1\" class=\"dataframe\">\n",
       "  <thead>\n",
       "    <tr style=\"text-align: right;\">\n",
       "      <th></th>\n",
       "      <th>1</th>\n",
       "      <th>2</th>\n",
       "      <th>3</th>\n",
       "      <th>4</th>\n",
       "      <th>5</th>\n",
       "      <th>6</th>\n",
       "      <th>7</th>\n",
       "      <th>8</th>\n",
       "      <th>9</th>\n",
       "      <th>10</th>\n",
       "      <th>11</th>\n",
       "      <th>12</th>\n",
       "    </tr>\n",
       "    <tr>\n",
       "      <th>id</th>\n",
       "      <th></th>\n",
       "      <th></th>\n",
       "      <th></th>\n",
       "      <th></th>\n",
       "      <th></th>\n",
       "      <th></th>\n",
       "      <th></th>\n",
       "      <th></th>\n",
       "      <th></th>\n",
       "      <th></th>\n",
       "      <th></th>\n",
       "      <th></th>\n",
       "    </tr>\n",
       "  </thead>\n",
       "  <tbody>\n",
       "    <tr>\n",
       "      <th>meter_100</th>\n",
       "      <td>1524.333493</td>\n",
       "      <td>1592.385533</td>\n",
       "      <td>1440.361155</td>\n",
       "      <td>1354.306709</td>\n",
       "      <td>1435.969797</td>\n",
       "      <td>1311.420694</td>\n",
       "      <td>1133.036542</td>\n",
       "      <td>1363.312919</td>\n",
       "      <td>1328.796127</td>\n",
       "      <td>1681.705116</td>\n",
       "      <td>1463.240453</td>\n",
       "      <td>1706.510352</td>\n",
       "    </tr>\n",
       "    <tr>\n",
       "      <th>meter_1010</th>\n",
       "      <td>1644.459826</td>\n",
       "      <td>1813.744645</td>\n",
       "      <td>1552.891154</td>\n",
       "      <td>1011.469422</td>\n",
       "      <td>1175.392677</td>\n",
       "      <td>1204.147979</td>\n",
       "      <td>1498.161604</td>\n",
       "      <td>1174.978344</td>\n",
       "      <td>1382.427064</td>\n",
       "      <td>1368.590562</td>\n",
       "      <td>1604.078031</td>\n",
       "      <td>1595.159738</td>\n",
       "    </tr>\n",
       "    <tr>\n",
       "      <th>meter_1012</th>\n",
       "      <td>1495.105851</td>\n",
       "      <td>1854.691275</td>\n",
       "      <td>1227.499495</td>\n",
       "      <td>1298.745046</td>\n",
       "      <td>1017.665449</td>\n",
       "      <td>1721.068561</td>\n",
       "      <td>1168.031159</td>\n",
       "      <td>1462.209605</td>\n",
       "      <td>1205.661471</td>\n",
       "      <td>1299.302650</td>\n",
       "      <td>1285.040508</td>\n",
       "      <td>1679.761536</td>\n",
       "    </tr>\n",
       "    <tr>\n",
       "      <th>meter_1016</th>\n",
       "      <td>1129.317873</td>\n",
       "      <td>1539.238443</td>\n",
       "      <td>1350.541279</td>\n",
       "      <td>1474.277355</td>\n",
       "      <td>1353.241178</td>\n",
       "      <td>1724.918736</td>\n",
       "      <td>1255.436914</td>\n",
       "      <td>1505.634618</td>\n",
       "      <td>1340.939863</td>\n",
       "      <td>1540.918175</td>\n",
       "      <td>1404.087898</td>\n",
       "      <td>1390.733445</td>\n",
       "    </tr>\n",
       "    <tr>\n",
       "      <th>meter_102</th>\n",
       "      <td>1521.060375</td>\n",
       "      <td>1582.060123</td>\n",
       "      <td>1629.971156</td>\n",
       "      <td>1512.226675</td>\n",
       "      <td>1645.186457</td>\n",
       "      <td>1972.403721</td>\n",
       "      <td>1571.723923</td>\n",
       "      <td>1766.072487</td>\n",
       "      <td>1451.001625</td>\n",
       "      <td>1934.242219</td>\n",
       "      <td>1610.656971</td>\n",
       "      <td>1463.226732</td>\n",
       "    </tr>\n",
       "    <tr>\n",
       "      <th>...</th>\n",
       "      <td>...</td>\n",
       "      <td>...</td>\n",
       "      <td>...</td>\n",
       "      <td>...</td>\n",
       "      <td>...</td>\n",
       "      <td>...</td>\n",
       "      <td>...</td>\n",
       "      <td>...</td>\n",
       "      <td>...</td>\n",
       "      <td>...</td>\n",
       "      <td>...</td>\n",
       "      <td>...</td>\n",
       "    </tr>\n",
       "    <tr>\n",
       "      <th>meter_961</th>\n",
       "      <td>1520.540264</td>\n",
       "      <td>1545.530996</td>\n",
       "      <td>1555.578629</td>\n",
       "      <td>1438.105346</td>\n",
       "      <td>1295.064110</td>\n",
       "      <td>1429.870443</td>\n",
       "      <td>1401.996696</td>\n",
       "      <td>1404.824555</td>\n",
       "      <td>1810.986263</td>\n",
       "      <td>1496.181209</td>\n",
       "      <td>1467.778336</td>\n",
       "      <td>1699.544657</td>\n",
       "    </tr>\n",
       "    <tr>\n",
       "      <th>meter_970</th>\n",
       "      <td>1730.752978</td>\n",
       "      <td>1480.467858</td>\n",
       "      <td>1402.143396</td>\n",
       "      <td>1261.578337</td>\n",
       "      <td>1352.699013</td>\n",
       "      <td>1488.524208</td>\n",
       "      <td>1628.009749</td>\n",
       "      <td>1329.827559</td>\n",
       "      <td>1394.186935</td>\n",
       "      <td>1316.222676</td>\n",
       "      <td>1350.297676</td>\n",
       "      <td>1530.490122</td>\n",
       "    </tr>\n",
       "    <tr>\n",
       "      <th>meter_98</th>\n",
       "      <td>1525.499380</td>\n",
       "      <td>1511.468138</td>\n",
       "      <td>1213.226594</td>\n",
       "      <td>1351.193119</td>\n",
       "      <td>1290.032238</td>\n",
       "      <td>1531.290280</td>\n",
       "      <td>1509.677542</td>\n",
       "      <td>1284.087392</td>\n",
       "      <td>1493.607567</td>\n",
       "      <td>1245.568381</td>\n",
       "      <td>1285.123062</td>\n",
       "      <td>1488.805435</td>\n",
       "    </tr>\n",
       "    <tr>\n",
       "      <th>meter_987</th>\n",
       "      <td>1443.504564</td>\n",
       "      <td>1518.860137</td>\n",
       "      <td>1451.549957</td>\n",
       "      <td>1638.816308</td>\n",
       "      <td>1490.626708</td>\n",
       "      <td>1497.296478</td>\n",
       "      <td>1663.787167</td>\n",
       "      <td>1266.976463</td>\n",
       "      <td>1558.005239</td>\n",
       "      <td>1425.880748</td>\n",
       "      <td>1431.101795</td>\n",
       "      <td>1740.978429</td>\n",
       "    </tr>\n",
       "    <tr>\n",
       "      <th>meter_996</th>\n",
       "      <td>1253.740345</td>\n",
       "      <td>1433.031261</td>\n",
       "      <td>1578.957518</td>\n",
       "      <td>1596.599532</td>\n",
       "      <td>1540.533455</td>\n",
       "      <td>1135.497168</td>\n",
       "      <td>1312.610430</td>\n",
       "      <td>1376.471860</td>\n",
       "      <td>1516.407208</td>\n",
       "      <td>1347.133287</td>\n",
       "      <td>1522.017980</td>\n",
       "      <td>1490.364048</td>\n",
       "    </tr>\n",
       "  </tbody>\n",
       "</table>\n",
       "<p>100 rows × 12 columns</p>\n",
       "</div>"
      ],
      "text/plain": [
       "                     1            2            3            4            5   \\\n",
       "id                                                                            \n",
       "meter_100   1524.333493  1592.385533  1440.361155  1354.306709  1435.969797   \n",
       "meter_1010  1644.459826  1813.744645  1552.891154  1011.469422  1175.392677   \n",
       "meter_1012  1495.105851  1854.691275  1227.499495  1298.745046  1017.665449   \n",
       "meter_1016  1129.317873  1539.238443  1350.541279  1474.277355  1353.241178   \n",
       "meter_102   1521.060375  1582.060123  1629.971156  1512.226675  1645.186457   \n",
       "...                 ...          ...          ...          ...          ...   \n",
       "meter_961   1520.540264  1545.530996  1555.578629  1438.105346  1295.064110   \n",
       "meter_970   1730.752978  1480.467858  1402.143396  1261.578337  1352.699013   \n",
       "meter_98    1525.499380  1511.468138  1213.226594  1351.193119  1290.032238   \n",
       "meter_987   1443.504564  1518.860137  1451.549957  1638.816308  1490.626708   \n",
       "meter_996   1253.740345  1433.031261  1578.957518  1596.599532  1540.533455   \n",
       "\n",
       "                     6            7            8            9            10  \\\n",
       "id                                                                            \n",
       "meter_100   1311.420694  1133.036542  1363.312919  1328.796127  1681.705116   \n",
       "meter_1010  1204.147979  1498.161604  1174.978344  1382.427064  1368.590562   \n",
       "meter_1012  1721.068561  1168.031159  1462.209605  1205.661471  1299.302650   \n",
       "meter_1016  1724.918736  1255.436914  1505.634618  1340.939863  1540.918175   \n",
       "meter_102   1972.403721  1571.723923  1766.072487  1451.001625  1934.242219   \n",
       "...                 ...          ...          ...          ...          ...   \n",
       "meter_961   1429.870443  1401.996696  1404.824555  1810.986263  1496.181209   \n",
       "meter_970   1488.524208  1628.009749  1329.827559  1394.186935  1316.222676   \n",
       "meter_98    1531.290280  1509.677542  1284.087392  1493.607567  1245.568381   \n",
       "meter_987   1497.296478  1663.787167  1266.976463  1558.005239  1425.880748   \n",
       "meter_996   1135.497168  1312.610430  1376.471860  1516.407208  1347.133287   \n",
       "\n",
       "                     11           12  \n",
       "id                                    \n",
       "meter_100   1463.240453  1706.510352  \n",
       "meter_1010  1604.078031  1595.159738  \n",
       "meter_1012  1285.040508  1679.761536  \n",
       "meter_1016  1404.087898  1390.733445  \n",
       "meter_102   1610.656971  1463.226732  \n",
       "...                 ...          ...  \n",
       "meter_961   1467.778336  1699.544657  \n",
       "meter_970   1350.297676  1530.490122  \n",
       "meter_98    1285.123062  1488.805435  \n",
       "meter_987   1431.101795  1740.978429  \n",
       "meter_996   1522.017980  1490.364048  \n",
       "\n",
       "[100 rows x 12 columns]"
      ]
     },
     "execution_count": 10,
     "metadata": {},
     "output_type": "execute_result"
    }
   ],
   "source": [
    "treatment_data.get_loadshape()"
   ]
  },
  {
   "cell_type": "code",
   "execution_count": 11,
   "metadata": {},
   "outputs": [
    {
     "data": {
      "text/html": [
       "<div>\n",
       "<style scoped>\n",
       "    .dataframe tbody tr th:only-of-type {\n",
       "        vertical-align: middle;\n",
       "    }\n",
       "\n",
       "    .dataframe tbody tr th {\n",
       "        vertical-align: top;\n",
       "    }\n",
       "\n",
       "    .dataframe thead th {\n",
       "        text-align: right;\n",
       "    }\n",
       "</style>\n",
       "<table border=\"1\" class=\"dataframe\">\n",
       "  <thead>\n",
       "    <tr style=\"text-align: right;\">\n",
       "      <th></th>\n",
       "      <th>winter_usage</th>\n",
       "      <th>summer_usage</th>\n",
       "      <th>annual_usage</th>\n",
       "    </tr>\n",
       "    <tr>\n",
       "      <th>id</th>\n",
       "      <th></th>\n",
       "      <th></th>\n",
       "      <th></th>\n",
       "    </tr>\n",
       "  </thead>\n",
       "  <tbody>\n",
       "    <tr>\n",
       "      <th>meter_8</th>\n",
       "      <td>4471.119636</td>\n",
       "      <td>4178.528812</td>\n",
       "      <td>16789.467345</td>\n",
       "    </tr>\n",
       "    <tr>\n",
       "      <th>meter_31</th>\n",
       "      <td>4758.167137</td>\n",
       "      <td>4224.936325</td>\n",
       "      <td>18369.772968</td>\n",
       "    </tr>\n",
       "    <tr>\n",
       "      <th>meter_37</th>\n",
       "      <td>4655.875657</td>\n",
       "      <td>4081.356379</td>\n",
       "      <td>18643.625942</td>\n",
       "    </tr>\n",
       "    <tr>\n",
       "      <th>meter_43</th>\n",
       "      <td>4508.469874</td>\n",
       "      <td>4146.107295</td>\n",
       "      <td>16636.552913</td>\n",
       "    </tr>\n",
       "    <tr>\n",
       "      <th>meter_47</th>\n",
       "      <td>4536.487872</td>\n",
       "      <td>4143.014120</td>\n",
       "      <td>16913.873090</td>\n",
       "    </tr>\n",
       "    <tr>\n",
       "      <th>...</th>\n",
       "      <td>...</td>\n",
       "      <td>...</td>\n",
       "      <td>...</td>\n",
       "    </tr>\n",
       "    <tr>\n",
       "      <th>meter_1045</th>\n",
       "      <td>4652.995496</td>\n",
       "      <td>4158.602723</td>\n",
       "      <td>17295.790873</td>\n",
       "    </tr>\n",
       "    <tr>\n",
       "      <th>meter_1053</th>\n",
       "      <td>4474.729151</td>\n",
       "      <td>4421.306270</td>\n",
       "      <td>17278.549835</td>\n",
       "    </tr>\n",
       "    <tr>\n",
       "      <th>meter_1066</th>\n",
       "      <td>4541.968424</td>\n",
       "      <td>4046.146944</td>\n",
       "      <td>17182.688477</td>\n",
       "    </tr>\n",
       "    <tr>\n",
       "      <th>meter_1080</th>\n",
       "      <td>4984.345750</td>\n",
       "      <td>4548.259809</td>\n",
       "      <td>18622.171457</td>\n",
       "    </tr>\n",
       "    <tr>\n",
       "      <th>meter_1091</th>\n",
       "      <td>4756.396007</td>\n",
       "      <td>4060.853579</td>\n",
       "      <td>18072.299324</td>\n",
       "    </tr>\n",
       "  </tbody>\n",
       "</table>\n",
       "<p>100 rows × 3 columns</p>\n",
       "</div>"
      ],
      "text/plain": [
       "            winter_usage  summer_usage  annual_usage\n",
       "id                                                  \n",
       "meter_8      4471.119636   4178.528812  16789.467345\n",
       "meter_31     4758.167137   4224.936325  18369.772968\n",
       "meter_37     4655.875657   4081.356379  18643.625942\n",
       "meter_43     4508.469874   4146.107295  16636.552913\n",
       "meter_47     4536.487872   4143.014120  16913.873090\n",
       "...                  ...           ...           ...\n",
       "meter_1045   4652.995496   4158.602723  17295.790873\n",
       "meter_1053   4474.729151   4421.306270  17278.549835\n",
       "meter_1066   4541.968424   4046.146944  17182.688477\n",
       "meter_1080   4984.345750   4548.259809  18622.171457\n",
       "meter_1091   4756.396007   4060.853579  18072.299324\n",
       "\n",
       "[100 rows x 3 columns]"
      ]
     },
     "execution_count": 11,
     "metadata": {},
     "output_type": "execute_result"
    }
   ],
   "source": [
    "treatment_data.get_features()"
   ]
  },
  {
   "cell_type": "code",
   "execution_count": 12,
   "metadata": {},
   "outputs": [
    {
     "data": {
      "text/plain": [
       "Data_Settings(AGG_TYPE=None, LOADSHAPE_TYPE=None, TIME_PERIOD=None, INTERPOLATE_MISSING=True, MIN_DATA_PCT_REQUIRED=0.8, SEASON=Season_Definition(JANUARY='winter', FEBRUARY='winter', MARCH='shoulder', APRIL='shoulder', MAY='shoulder', JUNE='summer', JULY='summer', AUGUST='summer', SEPTEMBER='summer', OCTOBER='shoulder', NOVEMBER='winter', DECEMBER='winter', OPTIONS=['summer', 'shoulder', 'winter']), WEEKDAY_WEEKEND=Weekday_Weekend_Definition(MONDAY='weekday', TUESDAY='weekday', WEDNESDAY='weekday', THURSDAY='weekday', FRIDAY='weekday', SATURDAY='weekend', SUNDAY='weekend', OPTIONS=['weekday', 'weekend']))"
      ]
     },
     "execution_count": 12,
     "metadata": {},
     "output_type": "execute_result"
    }
   ],
   "source": [
    "data_settings"
   ]
  },
  {
   "cell_type": "markdown",
   "metadata": {},
   "source": [
    "# Clustering\n",
    "\n",
    "Is it fast? Not particularly, but it has advantages"
   ]
  },
  {
   "cell_type": "code",
   "execution_count": null,
   "metadata": {},
   "outputs": [],
   "source": [
    "clustering_settings = gm.Clustering_Settings()\n",
    "clustering = gm.Clustering(clustering_settings)\n",
    "df_cg, df_t_coeffs = clustering.get_comparison_group(treatment_data, pool_data)\n",
    "df_cg"
   ]
  },
  {
   "cell_type": "code",
   "execution_count": null,
   "metadata": {},
   "outputs": [],
   "source": [
    "df_t_coeffs"
   ]
  },
  {
   "cell_type": "code",
   "execution_count": null,
   "metadata": {},
   "outputs": [],
   "source": [
    "df_cg"
   ]
  },
  {
   "cell_type": "markdown",
   "metadata": {},
   "source": [
    "# Individual Meter Matching\n",
    "For Euclidean distance matching, the usage patterns of each treatment meter are compared to the usage patterns of each comparison pool meter in order to find the closest matches. The subsequent group of meters that have been \"matched\" become the resulting comparison group.\n",
    "\n",
    "## Features For Matching\n",
    "\n",
    "Any usage pattern can be used for euclidean distance matching. If an 8760 hourly trace is available, it is suggested to use a 'seasonal-hour-of-week' load-shape (3 168-point load shapes, one for summer, winter, and shoulder). If only monthly data is available, it is suggested to use the 12 months of usage as the usage pattern.\n"
   ]
  },
  {
   "cell_type": "code",
   "execution_count": 13,
   "metadata": {},
   "outputs": [
    {
     "name": "stderr",
     "output_type": "stream",
     "text": [
      "/app/applied_data_science/gridmeter/gridmeter/gridmeter/_individual_meter_matching/distance_calc_selection.py:212: FutureWarning: The behavior of DataFrame concatenation with empty or all-NA entries is deprecated. In a future version, this will no longer exclude empty or all-NA columns when determining the result dtypes. To retain the old behavior, exclude the relevant entries before the concat operation.\n"
     ]
    }
   ],
   "source": [
    "# Test IMM\n",
    "\n",
    "imm_settings = gm.IMM_Settings()\n",
    "imm = gm.IMM(imm_settings)\n",
    "df_cg, df_t_coeffs = imm.get_comparison_group(treatment_data, pool_data)"
   ]
  },
  {
   "cell_type": "code",
   "execution_count": 14,
   "metadata": {},
   "outputs": [
    {
     "data": {
      "image/png": "[encoded data removed]",
      "text/plain": [
       "<Figure size 640x480 with 1 Axes>"
      ]
     },
     "metadata": {},
     "output_type": "display_data"
    }
   ],
   "source": [
    "df = imm.plot_comparison_group_loadshape(id=None).T"
   ]
  },
  {
   "cell_type": "markdown",
   "metadata": {},
   "source": [
    "# Stratified Sampling Matching\n",
    "\n",
    "There are many ways to define similarity and many methods for constructing similar groups.  The stratified sampling approach was selected in particular because it offers a good balance in terms effectiveness, ease of implementation, and simplicity. We define stratified sampling as follows:\n",
    "\n",
    "- Each meter is represented by a vector of numerical features, e.g. annual usage, summer peak usage, etc\n",
    "- A small number of features, typically between 1 and 3 inclusive, are selected: this is the number of *dimensions*.\n",
    "- The treatment group is divided up into a set of multidimensional bins according to a predefined binning configuration.\n",
    "- The proportion of treatment meters present in each bin is computed.\n",
    "- A set of meters is sampled from the comparison pool such that the sample is distributed amongst the bins in the same proportion as the treatment group.  The sample is called the comparison group.\n",
    "- The treatment and comparison groups are compared using additional meter data, e.g. load shapes.\n",
    "- (Optional) An optimal binning configuration is selected which minimizes error between treatment and control groups.\n",
    "\n",
    "\n",
    "In order to use this library, it is therefore necessary to have the following data at hand:\n",
    "- A data frame containing the treatment group, with one ID column, and a set of numerical feature columns, one row per meter;\n",
    "- A data frame containing the comparison pool, in the same format;\n",
    "- A data frame containing the treatment group data for equivalence, with one ID column, one feature name column, and one value column; e.g. for an annual monthly load shape, the feature name column might contain the month name, and there might be twelve rows per meter;\n",
    "- A data frame containing the comparison pool data for equivalence, in the same format."
   ]
  },
  {
   "cell_type": "markdown",
   "metadata": {},
   "source": [
    "## Selecting features for stratification"
   ]
  },
  {
   "cell_type": "markdown",
   "metadata": {},
   "source": [
    "Normally, you will compute a set of features from your time series meter traces, and then select a subset of those features to stratify on.  The feature computation step is up to you.  We recommend running the Caltrack model to derive heating and cooling coefficients and deriving features from these outputs.  Other techniques such as principle component analysis could be useful as well.  In general, aim for stratifying on between one and three features, and aim for orthogonal features if possible.  In the dummy data, there are three features available: `summer_usage`, `winter_usage`, and `annual_usage` which are shown in the scatter plots below.  `annual_usage` is correlated with the other two, as you would expect, so we will stratify based on `summer_usage` and `winter_usage`.\n",
    "\n"
   ]
  },
  {
   "cell_type": "code",
   "execution_count": null,
   "metadata": {},
   "outputs": [],
   "source": [
    "pd.plotting.scatter_matrix(df_features_treatment);"
   ]
  },
  {
   "cell_type": "markdown",
   "metadata": {},
   "source": [
    "By plotting the two features below we can see that the treatment group and comparison pool are differently distributed, such that a random sample from the pool would not be a good counterfactual for the treatment group -- this is why we need stratified sampling."
   ]
  },
  {
   "cell_type": "code",
   "execution_count": null,
   "metadata": {},
   "outputs": [],
   "source": [
    "pn.ggplot(df_features, pn.aes(x='summer_usage', y='winter_usage', color='set')) + pn.geom_point(alpha=0.5) + pn.facet_wrap(\"~set\") + pn.theme_bw()"
   ]
  },
  {
   "cell_type": "markdown",
   "metadata": {},
   "source": [
    "To use stratified sampling, you must supply input data, a list of input columns to stratify on, and some configuration, according to the example below.   Additionally, you have the option of using the library to select an optimal configuration for you.  We'll first demonstrate the basic usage of the model, in which you supply all of the configuration information.\n",
    "\n",
    "### Number of outputs \n",
    "\n",
    "The size of the comparison group is constrained by the size of the pool and by the degree to which the treatment group overlaps the pool in terms of the stratification columns.  For example, if the treatment group and pool are disjoint, no comparison group can be constructed; if only 5% of the pool overlaps the treatment group, then the effective available pool is constructed from that 5% of overlapping meters.  Generally, if you do not specify the output size, `gridmeter` will construct the largest possible comparison group up to 5000 meters.   "
   ]
  },
  {
   "cell_type": "code",
   "execution_count": null,
   "metadata": {},
   "outputs": [],
   "source": [
    "strat_col_settings = [\n",
    "    {\n",
    "        \"column_name\": \"summer_usage\", \n",
    "        \"n_bins\": 8, \n",
    "        \"min_value_allowed\": 3000, \n",
    "        \"max_value_allowed\": 6000, \n",
    "        \"fixed_width\": False\n",
    "    },\n",
    "    {\n",
    "        \"column_name\": \"winter_usage\",\n",
    "        \"n_bins\": 8, \n",
    "        \"min_value_allowed\": 3000, \n",
    "        \"max_value_allowed\": 6000, \n",
    "        \"fixed_width\": False\n",
    "    },\n",
    "]\n",
    "\n",
    "ss_settings = gm.stratified_sampling_settings(stratification_column=strat_col_settings, random_seed=1)\n",
    "ss = gm.Stratified_Sampling(ss_settings)\n",
    "\n",
    "df_clusters, df_treatment_weights = ss.get_comparison_group(treatment_data, pool_data)"
   ]
  },
  {
   "cell_type": "code",
   "execution_count": null,
   "metadata": {},
   "outputs": [],
   "source": [
    "# Original Stratified Sampling dataframe\n",
    "ss.df_raw"
   ]
  },
  {
   "cell_type": "code",
   "execution_count": null,
   "metadata": {},
   "outputs": [],
   "source": [
    "# bin count\n",
    "ss.diagnostics().count_bins()"
   ]
  },
  {
   "cell_type": "markdown",
   "metadata": {},
   "source": [
    "## Viewing diagnostic plots \n",
    "\n",
    "Once the model has been fit, you can view several plots which will show the treatment group, comparison pool, and the final sample (i.e. the comparison group).  If the model has worked correctly, then the sample should be distributed similarly to the treatment group.  There are three plots available:\n",
    "\n",
    "1. Histograms, showing the distribution of each stratification parameter in one dimension;\n",
    "2. Scatter plots, showing an XY-plot of data points for each pair of dimensions;\n",
    "3. Quantile plots with equivalence, showing the quantile distribution of each dimension, along with t-test and ks-test p-values comparison the treatment and comparison groups.  \n",
    "\n",
    "The t- and ks-tests can be used as a measure of equivalence, however we recommend using equivalence-based optimization discussed below for better results in practice.  "
   ]
  },
  {
   "cell_type": "code",
   "execution_count": null,
   "metadata": {},
   "outputs": [],
   "source": [
    "d = ss.diagnostics()"
   ]
  },
  {
   "cell_type": "code",
   "execution_count": null,
   "metadata": {},
   "outputs": [],
   "source": [
    "d.histogram()"
   ]
  },
  {
   "cell_type": "code",
   "execution_count": null,
   "metadata": {},
   "outputs": [],
   "source": [
    "d.scatter()"
   ]
  },
  {
   "cell_type": "code",
   "execution_count": null,
   "metadata": {},
   "outputs": [],
   "source": [
    "d.quantile_equivalence()"
   ]
  },
  {
   "cell_type": "markdown",
   "metadata": {},
   "source": [
    "## Equivalence-based optimization\n",
    "\n",
    "The above method of stratified sampling is designed to match the distributions of one or more stratification parameters.  However, often in practice the desired outcome is to have a comparison group with similar usage patterns to a treatment group as measured through a load shape or similar set of time-series features.  To ensure that the load shapes are equivalent, you can use the `StratifiedSamplingBinSelector` which selects an optimal binning arrangement which minimizes load shape error between the treatment and comparison groups. \n",
    "\n",
    "In the following example, a bin selector is used to match on monthly load shapes.  "
   ]
  },
  {
   "cell_type": "code",
   "execution_count": null,
   "metadata": {},
   "outputs": [],
   "source": [
    "strat_col_settings = {\n",
    "    \"equivalence_method\": \"chisquare\",\n",
    "    \"min_n_bins\": 2,\n",
    "    \"max_n_bins\": 8,\n",
    "    \"stratification_column\": [{\n",
    "            \"column_name\": \"summer_usage\", \n",
    "            \"n_bins\": None, \n",
    "            \"min_value_allowed\": 3000, \n",
    "            \"max_value_allowed\": 6000, \n",
    "            \"fixed_width\": False\n",
    "        },\n",
    "        {\n",
    "            \"column_name\": \"winter_usage\",\n",
    "            \"n_bins\": None, \n",
    "            \"min_value_allowed\": 3000, \n",
    "            \"max_value_allowed\": 6000, \n",
    "            \"fixed_width\": False\n",
    "    }],\n",
    "    \"random_seed\": 1,\n",
    "}\n",
    "\n",
    "dss_settings = gm.distance_stratified_sampling_settings(**strat_col_settings)\n",
    "dss = gm.Stratified_Sampling(dss_settings)\n",
    "\n",
    "df_clusters2, df_treatment_weights2 = dss.get_comparison_group(treatment_data, pool_data)"
   ]
  },
  {
   "cell_type": "code",
   "execution_count": null,
   "metadata": {},
   "outputs": [],
   "source": [
    "dss.model_bin_selector.plot_records_based_equiv_average()"
   ]
  },
  {
   "cell_type": "markdown",
   "metadata": {},
   "source": [
    "The graph above shows the monthly load shape of the treatment group (red), the selected comparison group (black), other candidate comparison groups (blue), and the comparison pool (dots).  In this case, all of the candidates were a good match, so the selection process was probably unnecessary, however in more complex cases this method can be useful.  The final binning arrangement is available in the model object as follows:"
   ]
  },
  {
   "cell_type": "code",
   "execution_count": null,
   "metadata": {},
   "outputs": [],
   "source": [
    "dss.diagnostics().scatter()"
   ]
  },
  {
   "cell_type": "code",
   "execution_count": null,
   "metadata": {},
   "outputs": [],
   "source": [
    "dss.df_raw"
   ]
  },
  {
   "cell_type": "markdown",
   "metadata": {},
   "source": [
    "This concludes the tutorial.  For questions, comments, or issues, please raise a Github issue here:  \n",
    "https://github.com/recurve-methods/comparison_groups/issues\n",
    "\n",
    "We thank you for your interest and participation in this project and look forward to your feedback."
   ]
  }
 ],
 "metadata": {
  "kernelspec": {
   "display_name": "Python 3",
   "language": "python",
   "name": "python3"
  },
  "language_info": {
   "codemirror_mode": {
    "name": "ipython",
    "version": 3
   },
   "file_extension": ".py",
   "mimetype": "text/x-python",
   "name": "python",
   "nbconvert_exporter": "python",
   "pygments_lexer": "ipython3",
   "version": "3.11.4"
  }
 },
 "nbformat": 4,
 "nbformat_minor": 4
}
