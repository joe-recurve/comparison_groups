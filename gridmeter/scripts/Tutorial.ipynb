{
 "cells": [
  {
   "cell_type": "markdown",
   "metadata": {},
   "source": [
    "# Getting starting with the GRIDmeter™ library\n",
    "\n",
    "This jupyter notebook is an interactive tutorial. It walks through loading data, running the stratified sampling model, and plotting results. You'll run all the code yourself. Cells can be executed with `<shift><enter>`. If you feel so inspired, make edits to the code in these cells and dig deeper.\n",
    "\n",
    "\n",
    "    "
   ]
  },
  {
   "cell_type": "markdown",
   "metadata": {},
   "source": [
    "# Background -- why this library\n",
    "\n",
    "The `gridmeter` library originated from a project lead by Recurve Analytics, Inc. and funded by the US Dept. of Energy designed to identify practical methods for analyzing energy efficiency which are robust to external shocks (e.g. COVID-19).  From June through September 2020, Recurve hosted a series of meetings with industry stakeholders to discuss methods for constructing comparison groups, with the goal of presenting a recommended standard method to the GRID working group, a subsidiary of the Linux Foundation for Energy.  During this time, Recurve developed Python software to implement stratified sampling and demonstrate its effectiveness in practice.  The `gridmeter` library is the open-source Apache-licensed output of this process and is available to be used by anyone. \n",
    "\n",
    "This notebook will take you through several things that this library can do.\n"
   ]
  },
  {
   "cell_type": "markdown",
   "metadata": {},
   "source": [
    "## Note on tutorial scope and related libraries\n",
    "\n",
    "This tutorial assumes the reader has properly installed python and has a basic working knowledge of python syntax and usage. \n",
    "\n",
    "The `gridmeter` library uses `pandas` data frames as its principle way of representing data, therefore all inputs and outputs are data frames; see [this tutorial](https://pandas.pydata.org/pandas-docs/stable/user_guide/10min.html) for information on how to use `pandas`.  The `plotnine` library is used to make visualizations which can be embedded in a Jupyter notebook or saved as .pngs; see [this website](https://plotnine.readthedocs.io/en/stable/) for information on `plotnine`."
   ]
  },
  {
   "cell_type": "code",
   "execution_count": 1,
   "metadata": {},
   "outputs": [],
   "source": [
    "import subprocess\n",
    "import sys\n",
    "\n",
    "for package in ['gridmeter', 'pandas', 'plotnine']:\n",
    "    try:\n",
    "        __import__(package)\n",
    "    except ImportError:\n",
    "        subprocess.check_call([sys.executable, \"-m\", \"pip\", \"install\", package])\n",
    "\n",
    "import numpy as np\n",
    "import pandas as pd\n",
    "import matplotlib.pyplot as plt\n",
    "import plotnine as pn\n",
    "import gridmeter as gm"
   ]
  },
  {
   "cell_type": "markdown",
   "metadata": {},
   "source": [
    "## Viewing documentation\n",
    "\n",
    "You can view code documentation by appending a question mark to a function and then executing that code, as in the following example:"
   ]
  },
  {
   "cell_type": "code",
   "execution_count": 2,
   "metadata": {},
   "outputs": [
    {
     "name": "stdout",
     "output_type": "stream",
     "text": [
      "\u001b[0;31mInit signature:\u001b[0m \u001b[0mgm\u001b[0m\u001b[0;34m.\u001b[0m\u001b[0mStratified_Sampling\u001b[0m\u001b[0;34m(\u001b[0m\u001b[0msettings\u001b[0m\u001b[0;34m:\u001b[0m \u001b[0;34m'Settings | None'\u001b[0m \u001b[0;34m=\u001b[0m \u001b[0;32mNone\u001b[0m\u001b[0;34m)\u001b[0m\u001b[0;34m\u001b[0m\u001b[0;34m\u001b[0m\u001b[0m\n",
      "\u001b[0;31mDocstring:\u001b[0m      <no docstring>\n",
      "\u001b[0;31mFile:\u001b[0m           /app/applied_data_science/gridmeter/gridmeter/gridmeter/_stratified_sampling/create_comparison_groups.py\n",
      "\u001b[0;31mType:\u001b[0m           type\n",
      "\u001b[0;31mSubclasses:\u001b[0m     "
     ]
    }
   ],
   "source": [
    "gm.Stratified_Sampling?"
   ]
  },
  {
   "cell_type": "markdown",
   "metadata": {},
   "source": [
    "# Problem definition\n",
    "\n",
    "Typically one begins with two populations of meters: a **treatment group**, and a **comparison pool**.  The treatment group consists of those meters for which savings needs to be tracked, e.g. if they represent customers participating in an energy efficiency program.  The comparison pool consists of all of the available meters that are not part of the treatment group.  The goal is to select a **comparison group** which is a subset of the comparison pool, such that the control group is **similar** to the treatment group.  The comparison group will then provide a realistic counterfactual compared to the treatment group and can be used to accurately estimate the impact of a program."
   ]
  },
  {
   "cell_type": "markdown",
   "metadata": {},
   "source": [
    "# Setting up tutorial data\n",
    "\n",
    "Ordinarily you would start with your own time-series meter data, but for our purposes we'll generate some very basic dummy data.  `gridmeter` provides some functions which generate populations of dummy meters with randomly varying base and peak usage levels.  We'll use the following code to generate a population of 1000 treatment meters and 10000 comparison pool meters, and specify some consumption values for the treatment group that differ from the default, so that the groups are differently distributed.  The treatment group is specified by filtering the comparison pool along one of the available features (currently `winter_usage`, `summer_uage`, and `annual_usage`).  For this example, we'll assume our treatment group targets customers with usage above the 50th percentile in both summer and winter.\n",
    "\n",
    "Once the population has been generated, we can create feature data and longitudinal data.  These functions take a few minutes to run upon first execution, but the results are cached to disk so subsequent runs will be fast.\n",
    "\n",
    "Note: the structure of the dataframes is extremely important going forward."
   ]
  },
  {
   "cell_type": "code",
   "execution_count": 3,
   "metadata": {},
   "outputs": [
    {
     "name": "stderr",
     "output_type": "stream",
     "text": [
      "INFO:root:Caching objects to .cache\n"
     ]
    }
   ],
   "source": [
    "# Loadshape and feature data\n",
    "\n",
    "n_treatment = 1000\n",
    "n_pool = 10000\n",
    "\n",
    "filter = lambda df: df[(df.summer_usage > df.summer_usage.quantile(0.5)) & (df.winter_usage > df.winter_usage.quantile(0.5))]\n",
    "population = gm.DummyTreatmentPoolPopulation(n_treatment=n_treatment, n_pool=n_pool, \n",
    "                                              treatment_filter_function=filter)\n",
    "\n",
    "df_features= population.features()\n",
    "df_features_pool = df_features[df_features['set']=='pool']\n",
    "df_features_treatment = df_features[df_features['set']=='treatment']\n",
    "df_loadshape = population.features_monthly()\n",
    "\n",
    "df_features_pool = df_features_pool.rename(columns={'meter_id':'id'}).drop(columns=['set'])\n",
    "df_ls_pool = df_loadshape.loc[df_features_pool[\"id\"]]\n",
    "df_ls_pool = df_ls_pool.stack().reset_index().rename(columns={'meter_id':'id', 'month':'time', 0:'loadshape'})\n",
    "\n",
    "df_features_treatment = df_features_treatment.rename(columns={'meter_id':'id'}).drop(columns=['set'])\n",
    "df_ls_treatment = df_loadshape.loc[df_features_treatment[\"id\"]]\n",
    "df_ls_treatment = df_ls_treatment.stack().reset_index().rename(columns={'meter_id':'id', 'month':'time', 0:'loadshape'})\n",
    "\n",
    "# Fake time series data\n",
    "# Create a testing dataframe having an id, datetime of 1 month intervals, observed and modeled values \n",
    "num_intervals = 12  # 1 per month\n",
    "\n",
    "# Create a DataFrame with 'id', 'datetime', 'observed', and 'modeled' columns\n",
    "df_ts_treatment = pd.DataFrame({\n",
    "    'id': np.repeat(df_features_treatment[\"id\"].values, num_intervals),  # only 3 ids for easier comparison\n",
    "    'datetime': pd.date_range(start='2023-01-01', periods=num_intervals, freq='M').tolist() * n_treatment, \n",
    "    'observed': np.random.rand(num_intervals * n_treatment),  # randomized\n",
    "    'modeled': np.random.rand(num_intervals * n_treatment)  # randomized\n",
    "})"
   ]
  },
  {
   "cell_type": "code",
   "execution_count": 4,
   "metadata": {},
   "outputs": [
    {
     "name": "stdout",
     "output_type": "stream",
     "text": [
      "Loadshape dataframe format:\n"
     ]
    },
    {
     "data": {
      "text/html": [
       "<div>\n",
       "<style scoped>\n",
       "    .dataframe tbody tr th:only-of-type {\n",
       "        vertical-align: middle;\n",
       "    }\n",
       "\n",
       "    .dataframe tbody tr th {\n",
       "        vertical-align: top;\n",
       "    }\n",
       "\n",
       "    .dataframe thead th {\n",
       "        text-align: right;\n",
       "    }\n",
       "</style>\n",
       "<table border=\"1\" class=\"dataframe\">\n",
       "  <thead>\n",
       "    <tr style=\"text-align: right;\">\n",
       "      <th></th>\n",
       "      <th>id</th>\n",
       "      <th>time</th>\n",
       "      <th>loadshape</th>\n",
       "    </tr>\n",
       "  </thead>\n",
       "  <tbody>\n",
       "    <tr>\n",
       "      <th>0</th>\n",
       "      <td>meter_8</td>\n",
       "      <td>1</td>\n",
       "      <td>1416.625014</td>\n",
       "    </tr>\n",
       "    <tr>\n",
       "      <th>1</th>\n",
       "      <td>meter_8</td>\n",
       "      <td>2</td>\n",
       "      <td>1338.381990</td>\n",
       "    </tr>\n",
       "    <tr>\n",
       "      <th>2</th>\n",
       "      <td>meter_8</td>\n",
       "      <td>3</td>\n",
       "      <td>1277.526603</td>\n",
       "    </tr>\n",
       "    <tr>\n",
       "      <th>3</th>\n",
       "      <td>meter_8</td>\n",
       "      <td>4</td>\n",
       "      <td>1217.073287</td>\n",
       "    </tr>\n",
       "    <tr>\n",
       "      <th>4</th>\n",
       "      <td>meter_8</td>\n",
       "      <td>5</td>\n",
       "      <td>1356.374682</td>\n",
       "    </tr>\n",
       "  </tbody>\n",
       "</table>\n",
       "</div>"
      ],
      "text/plain": [
       "        id  time    loadshape\n",
       "0  meter_8     1  1416.625014\n",
       "1  meter_8     2  1338.381990\n",
       "2  meter_8     3  1277.526603\n",
       "3  meter_8     4  1217.073287\n",
       "4  meter_8     5  1356.374682"
      ]
     },
     "execution_count": 4,
     "metadata": {},
     "output_type": "execute_result"
    }
   ],
   "source": [
    "# Loadshape dataframe format, columns: [id, time, loadshape]\n",
    "# time depends on whatever you have aggregated to\n",
    "\n",
    "print(\"Loadshape dataframe format:\")\n",
    "df_ls_treatment.head()"
   ]
  },
  {
   "cell_type": "code",
   "execution_count": 5,
   "metadata": {},
   "outputs": [
    {
     "name": "stdout",
     "output_type": "stream",
     "text": [
      "Time series dataframe format:\n"
     ]
    },
    {
     "data": {
      "text/html": [
       "<div>\n",
       "<style scoped>\n",
       "    .dataframe tbody tr th:only-of-type {\n",
       "        vertical-align: middle;\n",
       "    }\n",
       "\n",
       "    .dataframe tbody tr th {\n",
       "        vertical-align: top;\n",
       "    }\n",
       "\n",
       "    .dataframe thead th {\n",
       "        text-align: right;\n",
       "    }\n",
       "</style>\n",
       "<table border=\"1\" class=\"dataframe\">\n",
       "  <thead>\n",
       "    <tr style=\"text-align: right;\">\n",
       "      <th></th>\n",
       "      <th>id</th>\n",
       "      <th>datetime</th>\n",
       "      <th>observed</th>\n",
       "      <th>modeled</th>\n",
       "    </tr>\n",
       "  </thead>\n",
       "  <tbody>\n",
       "    <tr>\n",
       "      <th>0</th>\n",
       "      <td>meter_8</td>\n",
       "      <td>2023-01-31</td>\n",
       "      <td>0.201009</td>\n",
       "      <td>0.949077</td>\n",
       "    </tr>\n",
       "    <tr>\n",
       "      <th>1</th>\n",
       "      <td>meter_8</td>\n",
       "      <td>2023-02-28</td>\n",
       "      <td>0.267766</td>\n",
       "      <td>0.264981</td>\n",
       "    </tr>\n",
       "    <tr>\n",
       "      <th>2</th>\n",
       "      <td>meter_8</td>\n",
       "      <td>2023-03-31</td>\n",
       "      <td>0.342109</td>\n",
       "      <td>0.561197</td>\n",
       "    </tr>\n",
       "    <tr>\n",
       "      <th>3</th>\n",
       "      <td>meter_8</td>\n",
       "      <td>2023-04-30</td>\n",
       "      <td>0.456873</td>\n",
       "      <td>0.972374</td>\n",
       "    </tr>\n",
       "    <tr>\n",
       "      <th>4</th>\n",
       "      <td>meter_8</td>\n",
       "      <td>2023-05-31</td>\n",
       "      <td>0.987438</td>\n",
       "      <td>0.958791</td>\n",
       "    </tr>\n",
       "  </tbody>\n",
       "</table>\n",
       "</div>"
      ],
      "text/plain": [
       "        id   datetime  observed   modeled\n",
       "0  meter_8 2023-01-31  0.201009  0.949077\n",
       "1  meter_8 2023-02-28  0.267766  0.264981\n",
       "2  meter_8 2023-03-31  0.342109  0.561197\n",
       "3  meter_8 2023-04-30  0.456873  0.972374\n",
       "4  meter_8 2023-05-31  0.987438  0.958791"
      ]
     },
     "execution_count": 5,
     "metadata": {},
     "output_type": "execute_result"
    }
   ],
   "source": [
    "# Time Series dataframe format, columns: [id, datetime, Optional[observed], Optional[modeled], Optional[error]]\n",
    "# observed, modeled, and error are optional, but at least one must be present\n",
    "# if you are using observed and modeled to calculate error, then you must have both observed and modeled\n",
    "\n",
    "print(\"Time series dataframe format:\")\n",
    "df_ts_treatment.head()"
   ]
  },
  {
   "cell_type": "code",
   "execution_count": 6,
   "metadata": {},
   "outputs": [
    {
     "name": "stdout",
     "output_type": "stream",
     "text": [
      "Features dataframe format:\n"
     ]
    },
    {
     "data": {
      "text/html": [
       "<div>\n",
       "<style scoped>\n",
       "    .dataframe tbody tr th:only-of-type {\n",
       "        vertical-align: middle;\n",
       "    }\n",
       "\n",
       "    .dataframe tbody tr th {\n",
       "        vertical-align: top;\n",
       "    }\n",
       "\n",
       "    .dataframe thead th {\n",
       "        text-align: right;\n",
       "    }\n",
       "</style>\n",
       "<table border=\"1\" class=\"dataframe\">\n",
       "  <thead>\n",
       "    <tr style=\"text-align: right;\">\n",
       "      <th></th>\n",
       "      <th>id</th>\n",
       "      <th>winter_usage</th>\n",
       "      <th>summer_usage</th>\n",
       "      <th>annual_usage</th>\n",
       "    </tr>\n",
       "  </thead>\n",
       "  <tbody>\n",
       "    <tr>\n",
       "      <th>8</th>\n",
       "      <td>meter_8</td>\n",
       "      <td>4474.540107</td>\n",
       "      <td>4498.474411</td>\n",
       "      <td>16999.617199</td>\n",
       "    </tr>\n",
       "    <tr>\n",
       "      <th>33</th>\n",
       "      <td>meter_33</td>\n",
       "      <td>4898.471826</td>\n",
       "      <td>5078.343347</td>\n",
       "      <td>18424.288094</td>\n",
       "    </tr>\n",
       "    <tr>\n",
       "      <th>56</th>\n",
       "      <td>meter_56</td>\n",
       "      <td>4629.797900</td>\n",
       "      <td>3975.296379</td>\n",
       "      <td>17700.280488</td>\n",
       "    </tr>\n",
       "    <tr>\n",
       "      <th>60</th>\n",
       "      <td>meter_60</td>\n",
       "      <td>4526.865188</td>\n",
       "      <td>3980.372332</td>\n",
       "      <td>17211.359791</td>\n",
       "    </tr>\n",
       "    <tr>\n",
       "      <th>62</th>\n",
       "      <td>meter_62</td>\n",
       "      <td>5053.708165</td>\n",
       "      <td>3974.311687</td>\n",
       "      <td>18117.419607</td>\n",
       "    </tr>\n",
       "  </tbody>\n",
       "</table>\n",
       "</div>"
      ],
      "text/plain": [
       "          id  winter_usage  summer_usage  annual_usage\n",
       "8    meter_8   4474.540107   4498.474411  16999.617199\n",
       "33  meter_33   4898.471826   5078.343347  18424.288094\n",
       "56  meter_56   4629.797900   3975.296379  17700.280488\n",
       "60  meter_60   4526.865188   3980.372332  17211.359791\n",
       "62  meter_62   5053.708165   3974.311687  18117.419607"
      ]
     },
     "execution_count": 6,
     "metadata": {},
     "output_type": "execute_result"
    }
   ],
   "source": [
    "# Features dataframe format, columns: [id, feature1, feature2, ...]\n",
    "# features can be named whatever you like and you may include as many as you like\n",
    "\n",
    "print(\"Features dataframe format:\")\n",
    "df_features_treatment.head()"
   ]
  },
  {
   "cell_type": "markdown",
   "metadata": {},
   "source": [
    "# Setting up data\n",
    "\n",
    "Gridmeter uses the `Data` class as the inputs to all of the comparison group methods. Its purpose is to validate your data and to perform the necessary transformations to go into the comparison group methods. `Data` is instantiated with `Data_Settings`. Once instantiated the method `.set_data` can be called using one of `loadshape_df` and `time_series_df` as well as `features_df` depending upon your needs. If you input `time_series_df` it will compute the loadshape.\n",
    "\n",
    "Method requirements:\n",
    "- Clustering: Loadshape\n",
    "- Individual Meter Matching: Loadshape\n",
    "- Stratified Sampling: Loadshape/Features (depends upon settings)"
   ]
  },
  {
   "cell_type": "code",
   "execution_count": 7,
   "metadata": {},
   "outputs": [],
   "source": [
    "data_settings = gm.Data_Settings(time_period='month')"
   ]
  },
  {
   "cell_type": "code",
   "execution_count": 8,
   "metadata": {},
   "outputs": [
    {
     "data": {
      "text/html": [
       "<div>\n",
       "<style scoped>\n",
       "    .dataframe tbody tr th:only-of-type {\n",
       "        vertical-align: middle;\n",
       "    }\n",
       "\n",
       "    .dataframe tbody tr th {\n",
       "        vertical-align: top;\n",
       "    }\n",
       "\n",
       "    .dataframe thead th {\n",
       "        text-align: right;\n",
       "    }\n",
       "</style>\n",
       "<table border=\"1\" class=\"dataframe\">\n",
       "  <thead>\n",
       "    <tr style=\"text-align: right;\">\n",
       "      <th></th>\n",
       "      <th>id</th>\n",
       "      <th>reason</th>\n",
       "    </tr>\n",
       "  </thead>\n",
       "  <tbody>\n",
       "    <tr>\n",
       "      <th>0</th>\n",
       "      <td>meter_10015</td>\n",
       "      <td>missing minimum number of values in loadshape_df</td>\n",
       "    </tr>\n",
       "    <tr>\n",
       "      <th>1</th>\n",
       "      <td>meter_10026</td>\n",
       "      <td>missing minimum number of values in loadshape_df</td>\n",
       "    </tr>\n",
       "    <tr>\n",
       "      <th>2</th>\n",
       "      <td>meter_10029</td>\n",
       "      <td>missing minimum number of values in loadshape_df</td>\n",
       "    </tr>\n",
       "    <tr>\n",
       "      <th>3</th>\n",
       "      <td>meter_10034</td>\n",
       "      <td>missing minimum number of values in loadshape_df</td>\n",
       "    </tr>\n",
       "    <tr>\n",
       "      <th>4</th>\n",
       "      <td>meter_10044</td>\n",
       "      <td>missing minimum number of values in loadshape_df</td>\n",
       "    </tr>\n",
       "    <tr>\n",
       "      <th>...</th>\n",
       "      <td>...</td>\n",
       "      <td>...</td>\n",
       "    </tr>\n",
       "    <tr>\n",
       "      <th>995</th>\n",
       "      <td>meter_9966</td>\n",
       "      <td>missing minimum number of values in loadshape_df</td>\n",
       "    </tr>\n",
       "    <tr>\n",
       "      <th>996</th>\n",
       "      <td>meter_997</td>\n",
       "      <td>missing minimum number of values in loadshape_df</td>\n",
       "    </tr>\n",
       "    <tr>\n",
       "      <th>997</th>\n",
       "      <td>meter_9974</td>\n",
       "      <td>missing minimum number of values in loadshape_df</td>\n",
       "    </tr>\n",
       "    <tr>\n",
       "      <th>998</th>\n",
       "      <td>meter_9992</td>\n",
       "      <td>missing minimum number of values in loadshape_df</td>\n",
       "    </tr>\n",
       "    <tr>\n",
       "      <th>999</th>\n",
       "      <td>meter_9998</td>\n",
       "      <td>missing minimum number of values in loadshape_df</td>\n",
       "    </tr>\n",
       "  </tbody>\n",
       "</table>\n",
       "<p>1000 rows × 2 columns</p>\n",
       "</div>"
      ],
      "text/plain": [
       "              id                                            reason\n",
       "0    meter_10015  missing minimum number of values in loadshape_df\n",
       "1    meter_10026  missing minimum number of values in loadshape_df\n",
       "2    meter_10029  missing minimum number of values in loadshape_df\n",
       "3    meter_10034  missing minimum number of values in loadshape_df\n",
       "4    meter_10044  missing minimum number of values in loadshape_df\n",
       "..           ...                                               ...\n",
       "995   meter_9966  missing minimum number of values in loadshape_df\n",
       "996    meter_997  missing minimum number of values in loadshape_df\n",
       "997   meter_9974  missing minimum number of values in loadshape_df\n",
       "998   meter_9992  missing minimum number of values in loadshape_df\n",
       "999   meter_9998  missing minimum number of values in loadshape_df\n",
       "\n",
       "[1000 rows x 2 columns]"
      ]
     },
     "execution_count": 8,
     "metadata": {},
     "output_type": "execute_result"
    }
   ],
   "source": [
    "# Let's make an invalid entry to see what happens\n",
    "df_ts_treatment.loc[0, 'observed'] = np.nan\n",
    "\n",
    "ts_data = gm.Data().set_data(time_series_df=df_ts_treatment)\n",
    "\n",
    "ts_data.get_excluded_ids()"
   ]
  },
  {
   "cell_type": "code",
   "execution_count": 9,
   "metadata": {},
   "outputs": [
    {
     "data": {
      "text/plain": [
       "<gridmeter._utils.data_processing.Data at 0x7f183d515590>"
      ]
     },
     "execution_count": 9,
     "metadata": {},
     "output_type": "execute_result"
    }
   ],
   "source": [
    "# Set data classes\n",
    "# for the purposes of this tutorial, we'll set both loadshapes and features\n",
    "\n",
    "data_settings = gm.Data_Settings(AGG_TYPE=None, LOADSHAPE_TYPE=None, TIME_PERIOD=None)\n",
    "\n",
    "pool_data = gm.Data(data_settings)\n",
    "pool_data.set_data(loadshape_df=df_ls_pool, features_df=df_features_pool)\n",
    "\n",
    "treatment_data = gm.Data(data_settings)\n",
    "treatment_data.set_data(loadshape_df=df_ls_treatment, features_df=df_features_treatment)"
   ]
  },
  {
   "cell_type": "code",
   "execution_count": 10,
   "metadata": {},
   "outputs": [
    {
     "data": {
      "text/html": [
       "<div>\n",
       "<style scoped>\n",
       "    .dataframe tbody tr th:only-of-type {\n",
       "        vertical-align: middle;\n",
       "    }\n",
       "\n",
       "    .dataframe tbody tr th {\n",
       "        vertical-align: top;\n",
       "    }\n",
       "\n",
       "    .dataframe thead th {\n",
       "        text-align: right;\n",
       "    }\n",
       "</style>\n",
       "<table border=\"1\" class=\"dataframe\">\n",
       "  <thead>\n",
       "    <tr style=\"text-align: right;\">\n",
       "      <th></th>\n",
       "      <th>1</th>\n",
       "      <th>2</th>\n",
       "      <th>3</th>\n",
       "      <th>4</th>\n",
       "      <th>5</th>\n",
       "      <th>6</th>\n",
       "      <th>7</th>\n",
       "      <th>8</th>\n",
       "      <th>9</th>\n",
       "      <th>10</th>\n",
       "      <th>11</th>\n",
       "      <th>12</th>\n",
       "    </tr>\n",
       "    <tr>\n",
       "      <th>id</th>\n",
       "      <th></th>\n",
       "      <th></th>\n",
       "      <th></th>\n",
       "      <th></th>\n",
       "      <th></th>\n",
       "      <th></th>\n",
       "      <th></th>\n",
       "      <th></th>\n",
       "      <th></th>\n",
       "      <th></th>\n",
       "      <th></th>\n",
       "      <th></th>\n",
       "    </tr>\n",
       "  </thead>\n",
       "  <tbody>\n",
       "    <tr>\n",
       "      <th>meter_10015</th>\n",
       "      <td>1487.075136</td>\n",
       "      <td>1772.160553</td>\n",
       "      <td>1700.007679</td>\n",
       "      <td>1373.618313</td>\n",
       "      <td>1399.705246</td>\n",
       "      <td>1208.550412</td>\n",
       "      <td>1583.023200</td>\n",
       "      <td>1272.234309</td>\n",
       "      <td>1735.385947</td>\n",
       "      <td>1390.719550</td>\n",
       "      <td>1714.475611</td>\n",
       "      <td>1420.198345</td>\n",
       "    </tr>\n",
       "    <tr>\n",
       "      <th>meter_10026</th>\n",
       "      <td>2027.067674</td>\n",
       "      <td>1727.620374</td>\n",
       "      <td>1494.155440</td>\n",
       "      <td>1385.250634</td>\n",
       "      <td>1335.169614</td>\n",
       "      <td>1282.868411</td>\n",
       "      <td>1194.246322</td>\n",
       "      <td>1375.576861</td>\n",
       "      <td>1570.446604</td>\n",
       "      <td>1230.476249</td>\n",
       "      <td>1567.337511</td>\n",
       "      <td>1602.583098</td>\n",
       "    </tr>\n",
       "    <tr>\n",
       "      <th>meter_10029</th>\n",
       "      <td>1240.466319</td>\n",
       "      <td>1482.362033</td>\n",
       "      <td>1382.311526</td>\n",
       "      <td>1402.749948</td>\n",
       "      <td>1540.491038</td>\n",
       "      <td>1336.607327</td>\n",
       "      <td>1242.334334</td>\n",
       "      <td>1420.454655</td>\n",
       "      <td>1559.761040</td>\n",
       "      <td>1560.235744</td>\n",
       "      <td>1443.091529</td>\n",
       "      <td>1476.363147</td>\n",
       "    </tr>\n",
       "    <tr>\n",
       "      <th>meter_10034</th>\n",
       "      <td>1373.233778</td>\n",
       "      <td>1560.863076</td>\n",
       "      <td>1174.082873</td>\n",
       "      <td>1595.585703</td>\n",
       "      <td>1356.832501</td>\n",
       "      <td>1415.234478</td>\n",
       "      <td>1348.946313</td>\n",
       "      <td>1375.653387</td>\n",
       "      <td>1283.188967</td>\n",
       "      <td>1499.160262</td>\n",
       "      <td>1540.950193</td>\n",
       "      <td>1334.519215</td>\n",
       "    </tr>\n",
       "    <tr>\n",
       "      <th>meter_10044</th>\n",
       "      <td>1181.522230</td>\n",
       "      <td>1318.197869</td>\n",
       "      <td>1663.735589</td>\n",
       "      <td>1581.444054</td>\n",
       "      <td>1830.537569</td>\n",
       "      <td>1175.091826</td>\n",
       "      <td>1297.401486</td>\n",
       "      <td>1202.654418</td>\n",
       "      <td>1660.670675</td>\n",
       "      <td>1590.550124</td>\n",
       "      <td>1801.845668</td>\n",
       "      <td>1280.122172</td>\n",
       "    </tr>\n",
       "    <tr>\n",
       "      <th>...</th>\n",
       "      <td>...</td>\n",
       "      <td>...</td>\n",
       "      <td>...</td>\n",
       "      <td>...</td>\n",
       "      <td>...</td>\n",
       "      <td>...</td>\n",
       "      <td>...</td>\n",
       "      <td>...</td>\n",
       "      <td>...</td>\n",
       "      <td>...</td>\n",
       "      <td>...</td>\n",
       "      <td>...</td>\n",
       "    </tr>\n",
       "    <tr>\n",
       "      <th>meter_9966</th>\n",
       "      <td>1713.278635</td>\n",
       "      <td>1583.993143</td>\n",
       "      <td>1470.902751</td>\n",
       "      <td>1643.762071</td>\n",
       "      <td>1685.749375</td>\n",
       "      <td>1531.277621</td>\n",
       "      <td>1387.402745</td>\n",
       "      <td>1144.465395</td>\n",
       "      <td>1525.362148</td>\n",
       "      <td>1340.070359</td>\n",
       "      <td>1441.718648</td>\n",
       "      <td>1455.741363</td>\n",
       "    </tr>\n",
       "    <tr>\n",
       "      <th>meter_997</th>\n",
       "      <td>1674.525334</td>\n",
       "      <td>1400.708446</td>\n",
       "      <td>1305.325420</td>\n",
       "      <td>1429.551442</td>\n",
       "      <td>1303.968237</td>\n",
       "      <td>1686.636852</td>\n",
       "      <td>1363.709231</td>\n",
       "      <td>1481.356785</td>\n",
       "      <td>1321.017955</td>\n",
       "      <td>1049.142803</td>\n",
       "      <td>1206.350984</td>\n",
       "      <td>1316.598729</td>\n",
       "    </tr>\n",
       "    <tr>\n",
       "      <th>meter_9974</th>\n",
       "      <td>1623.680467</td>\n",
       "      <td>1392.346245</td>\n",
       "      <td>1525.522440</td>\n",
       "      <td>1157.463018</td>\n",
       "      <td>1155.465955</td>\n",
       "      <td>1456.242137</td>\n",
       "      <td>1469.635275</td>\n",
       "      <td>1087.861268</td>\n",
       "      <td>1239.333549</td>\n",
       "      <td>1541.160557</td>\n",
       "      <td>1467.633079</td>\n",
       "      <td>1279.468672</td>\n",
       "    </tr>\n",
       "    <tr>\n",
       "      <th>meter_9992</th>\n",
       "      <td>1366.575776</td>\n",
       "      <td>1485.167905</td>\n",
       "      <td>1482.425014</td>\n",
       "      <td>1404.235810</td>\n",
       "      <td>1471.225224</td>\n",
       "      <td>1235.890505</td>\n",
       "      <td>1168.017039</td>\n",
       "      <td>1272.736652</td>\n",
       "      <td>1675.768494</td>\n",
       "      <td>1623.533492</td>\n",
       "      <td>1560.842339</td>\n",
       "      <td>1444.620261</td>\n",
       "    </tr>\n",
       "    <tr>\n",
       "      <th>meter_9998</th>\n",
       "      <td>1140.955162</td>\n",
       "      <td>1418.584380</td>\n",
       "      <td>1257.777646</td>\n",
       "      <td>1891.918910</td>\n",
       "      <td>1604.250923</td>\n",
       "      <td>1316.780033</td>\n",
       "      <td>1372.114009</td>\n",
       "      <td>1297.241913</td>\n",
       "      <td>1507.078932</td>\n",
       "      <td>1287.175265</td>\n",
       "      <td>1408.894336</td>\n",
       "      <td>1750.757895</td>\n",
       "    </tr>\n",
       "  </tbody>\n",
       "</table>\n",
       "<p>1000 rows × 12 columns</p>\n",
       "</div>"
      ],
      "text/plain": [
       "                      1            2            3            4            5   \\\n",
       "id                                                                             \n",
       "meter_10015  1487.075136  1772.160553  1700.007679  1373.618313  1399.705246   \n",
       "meter_10026  2027.067674  1727.620374  1494.155440  1385.250634  1335.169614   \n",
       "meter_10029  1240.466319  1482.362033  1382.311526  1402.749948  1540.491038   \n",
       "meter_10034  1373.233778  1560.863076  1174.082873  1595.585703  1356.832501   \n",
       "meter_10044  1181.522230  1318.197869  1663.735589  1581.444054  1830.537569   \n",
       "...                  ...          ...          ...          ...          ...   \n",
       "meter_9966   1713.278635  1583.993143  1470.902751  1643.762071  1685.749375   \n",
       "meter_997    1674.525334  1400.708446  1305.325420  1429.551442  1303.968237   \n",
       "meter_9974   1623.680467  1392.346245  1525.522440  1157.463018  1155.465955   \n",
       "meter_9992   1366.575776  1485.167905  1482.425014  1404.235810  1471.225224   \n",
       "meter_9998   1140.955162  1418.584380  1257.777646  1891.918910  1604.250923   \n",
       "\n",
       "                      6            7            8            9            10  \\\n",
       "id                                                                             \n",
       "meter_10015  1208.550412  1583.023200  1272.234309  1735.385947  1390.719550   \n",
       "meter_10026  1282.868411  1194.246322  1375.576861  1570.446604  1230.476249   \n",
       "meter_10029  1336.607327  1242.334334  1420.454655  1559.761040  1560.235744   \n",
       "meter_10034  1415.234478  1348.946313  1375.653387  1283.188967  1499.160262   \n",
       "meter_10044  1175.091826  1297.401486  1202.654418  1660.670675  1590.550124   \n",
       "...                  ...          ...          ...          ...          ...   \n",
       "meter_9966   1531.277621  1387.402745  1144.465395  1525.362148  1340.070359   \n",
       "meter_997    1686.636852  1363.709231  1481.356785  1321.017955  1049.142803   \n",
       "meter_9974   1456.242137  1469.635275  1087.861268  1239.333549  1541.160557   \n",
       "meter_9992   1235.890505  1168.017039  1272.736652  1675.768494  1623.533492   \n",
       "meter_9998   1316.780033  1372.114009  1297.241913  1507.078932  1287.175265   \n",
       "\n",
       "                      11           12  \n",
       "id                                     \n",
       "meter_10015  1714.475611  1420.198345  \n",
       "meter_10026  1567.337511  1602.583098  \n",
       "meter_10029  1443.091529  1476.363147  \n",
       "meter_10034  1540.950193  1334.519215  \n",
       "meter_10044  1801.845668  1280.122172  \n",
       "...                  ...          ...  \n",
       "meter_9966   1441.718648  1455.741363  \n",
       "meter_997    1206.350984  1316.598729  \n",
       "meter_9974   1467.633079  1279.468672  \n",
       "meter_9992   1560.842339  1444.620261  \n",
       "meter_9998   1408.894336  1750.757895  \n",
       "\n",
       "[1000 rows x 12 columns]"
      ]
     },
     "execution_count": 10,
     "metadata": {},
     "output_type": "execute_result"
    }
   ],
   "source": [
    "treatment_data.get_loadshape()"
   ]
  },
  {
   "cell_type": "code",
   "execution_count": 11,
   "metadata": {},
   "outputs": [
    {
     "data": {
      "text/html": [
       "<div>\n",
       "<style scoped>\n",
       "    .dataframe tbody tr th:only-of-type {\n",
       "        vertical-align: middle;\n",
       "    }\n",
       "\n",
       "    .dataframe tbody tr th {\n",
       "        vertical-align: top;\n",
       "    }\n",
       "\n",
       "    .dataframe thead th {\n",
       "        text-align: right;\n",
       "    }\n",
       "</style>\n",
       "<table border=\"1\" class=\"dataframe\">\n",
       "  <thead>\n",
       "    <tr style=\"text-align: right;\">\n",
       "      <th></th>\n",
       "      <th>winter_usage</th>\n",
       "      <th>summer_usage</th>\n",
       "      <th>annual_usage</th>\n",
       "    </tr>\n",
       "    <tr>\n",
       "      <th>id</th>\n",
       "      <th></th>\n",
       "      <th></th>\n",
       "      <th></th>\n",
       "    </tr>\n",
       "  </thead>\n",
       "  <tbody>\n",
       "    <tr>\n",
       "      <th>meter_8</th>\n",
       "      <td>4474.540107</td>\n",
       "      <td>4498.474411</td>\n",
       "      <td>16999.617199</td>\n",
       "    </tr>\n",
       "    <tr>\n",
       "      <th>meter_33</th>\n",
       "      <td>4898.471826</td>\n",
       "      <td>5078.343347</td>\n",
       "      <td>18424.288094</td>\n",
       "    </tr>\n",
       "    <tr>\n",
       "      <th>meter_56</th>\n",
       "      <td>4629.797900</td>\n",
       "      <td>3975.296379</td>\n",
       "      <td>17700.280488</td>\n",
       "    </tr>\n",
       "    <tr>\n",
       "      <th>meter_60</th>\n",
       "      <td>4526.865188</td>\n",
       "      <td>3980.372332</td>\n",
       "      <td>17211.359791</td>\n",
       "    </tr>\n",
       "    <tr>\n",
       "      <th>meter_62</th>\n",
       "      <td>5053.708165</td>\n",
       "      <td>3974.311687</td>\n",
       "      <td>18117.419607</td>\n",
       "    </tr>\n",
       "    <tr>\n",
       "      <th>...</th>\n",
       "      <td>...</td>\n",
       "      <td>...</td>\n",
       "      <td>...</td>\n",
       "    </tr>\n",
       "    <tr>\n",
       "      <th>meter_10957</th>\n",
       "      <td>4439.195070</td>\n",
       "      <td>4510.355083</td>\n",
       "      <td>17054.444500</td>\n",
       "    </tr>\n",
       "    <tr>\n",
       "      <th>meter_10966</th>\n",
       "      <td>4428.247078</td>\n",
       "      <td>4508.444470</td>\n",
       "      <td>16918.332693</td>\n",
       "    </tr>\n",
       "    <tr>\n",
       "      <th>meter_10985</th>\n",
       "      <td>4746.081470</td>\n",
       "      <td>4247.471266</td>\n",
       "      <td>17088.210893</td>\n",
       "    </tr>\n",
       "    <tr>\n",
       "      <th>meter_10990</th>\n",
       "      <td>5078.226777</td>\n",
       "      <td>4321.959361</td>\n",
       "      <td>18333.444504</td>\n",
       "    </tr>\n",
       "    <tr>\n",
       "      <th>meter_10997</th>\n",
       "      <td>4551.770648</td>\n",
       "      <td>4398.150209</td>\n",
       "      <td>17296.215789</td>\n",
       "    </tr>\n",
       "  </tbody>\n",
       "</table>\n",
       "<p>1000 rows × 3 columns</p>\n",
       "</div>"
      ],
      "text/plain": [
       "             winter_usage  summer_usage  annual_usage\n",
       "id                                                   \n",
       "meter_8       4474.540107   4498.474411  16999.617199\n",
       "meter_33      4898.471826   5078.343347  18424.288094\n",
       "meter_56      4629.797900   3975.296379  17700.280488\n",
       "meter_60      4526.865188   3980.372332  17211.359791\n",
       "meter_62      5053.708165   3974.311687  18117.419607\n",
       "...                   ...           ...           ...\n",
       "meter_10957   4439.195070   4510.355083  17054.444500\n",
       "meter_10966   4428.247078   4508.444470  16918.332693\n",
       "meter_10985   4746.081470   4247.471266  17088.210893\n",
       "meter_10990   5078.226777   4321.959361  18333.444504\n",
       "meter_10997   4551.770648   4398.150209  17296.215789\n",
       "\n",
       "[1000 rows x 3 columns]"
      ]
     },
     "execution_count": 11,
     "metadata": {},
     "output_type": "execute_result"
    }
   ],
   "source": [
    "treatment_data.get_features()"
   ]
  },
  {
   "cell_type": "code",
   "execution_count": 12,
   "metadata": {},
   "outputs": [
    {
     "data": {
      "text/plain": [
       "Data_Settings(AGG_TYPE=None, LOADSHAPE_TYPE=None, TIME_PERIOD=None, INTERPOLATE_MISSING=True, MIN_DATA_PCT_REQUIRED=0.8, SEASON=Season_Definition(JANUARY='winter', FEBRUARY='winter', MARCH='shoulder', APRIL='shoulder', MAY='shoulder', JUNE='summer', JULY='summer', AUGUST='summer', SEPTEMBER='summer', OCTOBER='shoulder', NOVEMBER='winter', DECEMBER='winter', OPTIONS=['summer', 'shoulder', 'winter']), WEEKDAY_WEEKEND=Weekday_Weekend_Definition(MONDAY='weekday', TUESDAY='weekday', WEDNESDAY='weekday', THURSDAY='weekday', FRIDAY='weekday', SATURDAY='weekend', SUNDAY='weekend', OPTIONS=['weekday', 'weekend']))"
      ]
     },
     "execution_count": 12,
     "metadata": {},
     "output_type": "execute_result"
    }
   ],
   "source": [
    "data_settings"
   ]
  },
  {
   "cell_type": "markdown",
   "metadata": {},
   "source": [
    "# Clustering\n",
    "\n",
    "Is it fast? Not particularly, but it has advantages"
   ]
  },
  {
   "cell_type": "code",
   "execution_count": 13,
   "metadata": {},
   "outputs": [
    {
     "data": {
      "text/html": [
       "<div>\n",
       "<style scoped>\n",
       "    .dataframe tbody tr th:only-of-type {\n",
       "        vertical-align: middle;\n",
       "    }\n",
       "\n",
       "    .dataframe tbody tr th {\n",
       "        vertical-align: top;\n",
       "    }\n",
       "\n",
       "    .dataframe thead th {\n",
       "        text-align: right;\n",
       "    }\n",
       "</style>\n",
       "<table border=\"1\" class=\"dataframe\">\n",
       "  <thead>\n",
       "    <tr style=\"text-align: right;\">\n",
       "      <th></th>\n",
       "      <th>cluster</th>\n",
       "    </tr>\n",
       "    <tr>\n",
       "      <th>id</th>\n",
       "      <th></th>\n",
       "    </tr>\n",
       "  </thead>\n",
       "  <tbody>\n",
       "    <tr>\n",
       "      <th>meter_6586</th>\n",
       "      <td>-1</td>\n",
       "    </tr>\n",
       "    <tr>\n",
       "      <th>meter_6575</th>\n",
       "      <td>-1</td>\n",
       "    </tr>\n",
       "    <tr>\n",
       "      <th>meter_6576</th>\n",
       "      <td>-1</td>\n",
       "    </tr>\n",
       "    <tr>\n",
       "      <th>meter_6579</th>\n",
       "      <td>-1</td>\n",
       "    </tr>\n",
       "    <tr>\n",
       "      <th>meter_658</th>\n",
       "      <td>-1</td>\n",
       "    </tr>\n",
       "    <tr>\n",
       "      <th>...</th>\n",
       "      <td>...</td>\n",
       "    </tr>\n",
       "    <tr>\n",
       "      <th>meter_3933</th>\n",
       "      <td>47</td>\n",
       "    </tr>\n",
       "    <tr>\n",
       "      <th>meter_9619</th>\n",
       "      <td>47</td>\n",
       "    </tr>\n",
       "    <tr>\n",
       "      <th>meter_7153</th>\n",
       "      <td>47</td>\n",
       "    </tr>\n",
       "    <tr>\n",
       "      <th>meter_5465</th>\n",
       "      <td>47</td>\n",
       "    </tr>\n",
       "    <tr>\n",
       "      <th>meter_3033</th>\n",
       "      <td>47</td>\n",
       "    </tr>\n",
       "  </tbody>\n",
       "</table>\n",
       "<p>10000 rows × 1 columns</p>\n",
       "</div>"
      ],
      "text/plain": [
       "            cluster\n",
       "id                 \n",
       "meter_6586       -1\n",
       "meter_6575       -1\n",
       "meter_6576       -1\n",
       "meter_6579       -1\n",
       "meter_658        -1\n",
       "...             ...\n",
       "meter_3933       47\n",
       "meter_9619       47\n",
       "meter_7153       47\n",
       "meter_5465       47\n",
       "meter_3033       47\n",
       "\n",
       "[10000 rows x 1 columns]"
      ]
     },
     "execution_count": 13,
     "metadata": {},
     "output_type": "execute_result"
    }
   ],
   "source": [
    "clustering_settings = gm.Clustering_Settings(TREATMENT_MATCH_LOSS=\"MAE\", USE_MULTIPROCESSING=True)\n",
    "clustering = gm.Clustering(clustering_settings)\n",
    "df_cg, df_t_coeffs = clustering.get_comparison_group(treatment_data, pool_data)\n",
    "df_cg"
   ]
  },
  {
   "cell_type": "code",
   "execution_count": null,
   "metadata": {},
   "outputs": [],
   "source": [
    "df_t_coeffs"
   ]
  },
  {
   "cell_type": "code",
   "execution_count": null,
   "metadata": {},
   "outputs": [],
   "source": [
    "df_cg"
   ]
  },
  {
   "cell_type": "markdown",
   "metadata": {},
   "source": [
    "# Individual Meter Matching\n",
    "For Euclidean distance matching, the usage patterns of each treatment meter are compared to the usage patterns of each comparison pool meter in order to find the closest matches. The subsequent group of meters that have been \"matched\" become the resulting comparison group.\n",
    "\n",
    "## Features For Matching\n",
    "\n",
    "Any usage pattern can be used for euclidean distance matching. If an 8760 hourly trace is available, it is suggested to use a 'seasonal-hour-of-week' load-shape (3 168-point load shapes, one for summer, winter, and shoulder). If only monthly data is available, it is suggested to use the 12 months of usage as the usage pattern.\n"
   ]
  },
  {
   "cell_type": "code",
   "execution_count": null,
   "metadata": {},
   "outputs": [],
   "source": [
    "# Test IMM\n",
    "\n",
    "imm_settings = gm.IMM_Settings()\n",
    "imm = gm.IMM(imm_settings)\n",
    "df_cg, df_t_coeffs = imm.get_comparison_group(treatment_data, pool_data)"
   ]
  },
  {
   "cell_type": "code",
   "execution_count": null,
   "metadata": {},
   "outputs": [],
   "source": [
    "imm.plot_comparison_group_loadshape()"
   ]
  },
  {
   "cell_type": "markdown",
   "metadata": {},
   "source": [
    "# Stratified Sampling Matching\n",
    "\n",
    "There are many ways to define similarity and many methods for constructing similar groups.  The stratified sampling approach was selected in particular because it offers a good balance in terms effectiveness, ease of implementation, and simplicity. We define stratified sampling as follows:\n",
    "\n",
    "- Each meter is represented by a vector of numerical features, e.g. annual usage, summer peak usage, etc\n",
    "- A small number of features, typically between 1 and 3 inclusive, are selected: this is the number of *dimensions*.\n",
    "- The treatment group is divided up into a set of multidimensional bins according to a predefined binning configuration.\n",
    "- The proportion of treatment meters present in each bin is computed.\n",
    "- A set of meters is sampled from the comparison pool such that the sample is distributed amongst the bins in the same proportion as the treatment group.  The sample is called the comparison group.\n",
    "- The treatment and comparison groups are compared using additional meter data, e.g. load shapes.\n",
    "- (Optional) An optimal binning configuration is selected which minimizes error between treatment and control groups.\n",
    "\n",
    "\n",
    "In order to use this library, it is therefore necessary to have the following data at hand:\n",
    "- A data frame containing the treatment group, with one ID column, and a set of numerical feature columns, one row per meter;\n",
    "- A data frame containing the comparison pool, in the same format;\n",
    "- A data frame containing the treatment group data for equivalence, with one ID column, one feature name column, and one value column; e.g. for an annual monthly load shape, the feature name column might contain the month name, and there might be twelve rows per meter;\n",
    "- A data frame containing the comparison pool data for equivalence, in the same format."
   ]
  },
  {
   "cell_type": "markdown",
   "metadata": {},
   "source": [
    "## Selecting features for stratification"
   ]
  },
  {
   "cell_type": "markdown",
   "metadata": {},
   "source": [
    "Normally, you will compute a set of features from your time series meter traces, and then select a subset of those features to stratify on.  The feature computation step is up to you.  We recommend running the Caltrack model to derive heating and cooling coefficients and deriving features from these outputs.  Other techniques such as principle component analysis could be useful as well.  In general, aim for stratifying on between one and three features, and aim for orthogonal features if possible.  In the dummy data, there are three features available: `summer_usage`, `winter_usage`, and `annual_usage` which are shown in the scatter plots below.  `annual_usage` is correlated with the other two, as you would expect, so we will stratify based on `summer_usage` and `winter_usage`.\n",
    "\n"
   ]
  },
  {
   "cell_type": "code",
   "execution_count": null,
   "metadata": {},
   "outputs": [],
   "source": [
    "pd.plotting.scatter_matrix(df_features_treatment);"
   ]
  },
  {
   "cell_type": "markdown",
   "metadata": {},
   "source": [
    "By plotting the two features below we can see that the treatment group and comparison pool are differently distributed, such that a random sample from the pool would not be a good counterfactual for the treatment group -- this is why we need stratified sampling."
   ]
  },
  {
   "cell_type": "code",
   "execution_count": null,
   "metadata": {},
   "outputs": [],
   "source": [
    "pn.ggplot(df_features, pn.aes(x='summer_usage', y='winter_usage', color='set')) + pn.geom_point(alpha=0.5) + pn.facet_wrap(\"~set\") + pn.theme_bw()"
   ]
  },
  {
   "cell_type": "markdown",
   "metadata": {},
   "source": [
    "To use stratified sampling, you must supply input data, a list of input columns to stratify on, and some configuration, according to the example below.   Additionally, you have the option of using the library to select an optimal configuration for you.  We'll first demonstrate the basic usage of the model, in which you supply all of the configuration information.\n",
    "\n",
    "### Number of outputs \n",
    "\n",
    "The size of the comparison group is constrained by the size of the pool and by the degree to which the treatment group overlaps the pool in terms of the stratification columns.  For example, if the treatment group and pool are disjoint, no comparison group can be constructed; if only 5% of the pool overlaps the treatment group, then the effective available pool is constructed from that 5% of overlapping meters.  Generally, if you do not specify the output size, `gridmeter` will construct the largest possible comparison group up to 5000 meters.   "
   ]
  },
  {
   "cell_type": "code",
   "execution_count": null,
   "metadata": {},
   "outputs": [],
   "source": [
    "strat_col_settings = [\n",
    "    {\n",
    "        \"column_name\": \"summer_usage\", \n",
    "        \"n_bins\": 8, \n",
    "        \"min_value_allowed\": 3000, \n",
    "        \"max_value_allowed\": 6000, \n",
    "        \"fixed_width\": False\n",
    "    },\n",
    "    {\n",
    "        \"column_name\": \"winter_usage\",\n",
    "        \"n_bins\": 8, \n",
    "        \"min_value_allowed\": 3000, \n",
    "        \"max_value_allowed\": 6000, \n",
    "        \"fixed_width\": False\n",
    "    },\n",
    "]\n",
    "\n",
    "ss_settings = gm.stratified_sampling_settings(stratification_column=strat_col_settings, random_seed=1)\n",
    "ss = gm.Stratified_Sampling(ss_settings)\n",
    "\n",
    "df_clusters, df_treatment_weights = ss.get_comparison_group(treatment_data, pool_data)"
   ]
  },
  {
   "cell_type": "code",
   "execution_count": null,
   "metadata": {},
   "outputs": [],
   "source": [
    "# Original Stratified Sampling dataframe\n",
    "ss.df_raw"
   ]
  },
  {
   "cell_type": "code",
   "execution_count": null,
   "metadata": {},
   "outputs": [],
   "source": [
    "# bin count\n",
    "ss.diagnostics().count_bins()"
   ]
  },
  {
   "cell_type": "markdown",
   "metadata": {},
   "source": [
    "## Viewing diagnostic plots \n",
    "\n",
    "Once the model has been fit, you can view several plots which will show the treatment group, comparison pool, and the final sample (i.e. the comparison group).  If the model has worked correctly, then the sample should be distributed similarly to the treatment group.  There are three plots available:\n",
    "\n",
    "1. Histograms, showing the distribution of each stratification parameter in one dimension;\n",
    "2. Scatter plots, showing an XY-plot of data points for each pair of dimensions;\n",
    "3. Quantile plots with equivalence, showing the quantile distribution of each dimension, along with t-test and ks-test p-values comparison the treatment and comparison groups.  \n",
    "\n",
    "The t- and ks-tests can be used as a measure of equivalence, however we recommend using equivalence-based optimization discussed below for better results in practice.  "
   ]
  },
  {
   "cell_type": "code",
   "execution_count": null,
   "metadata": {},
   "outputs": [],
   "source": [
    "d = ss.diagnostics()"
   ]
  },
  {
   "cell_type": "code",
   "execution_count": null,
   "metadata": {},
   "outputs": [],
   "source": [
    "d.histogram()"
   ]
  },
  {
   "cell_type": "code",
   "execution_count": null,
   "metadata": {},
   "outputs": [],
   "source": [
    "d.scatter()"
   ]
  },
  {
   "cell_type": "code",
   "execution_count": null,
   "metadata": {},
   "outputs": [],
   "source": [
    "d.quantile_equivalence()"
   ]
  },
  {
   "cell_type": "markdown",
   "metadata": {},
   "source": [
    "## Equivalence-based optimization\n",
    "\n",
    "The above method of stratified sampling is designed to match the distributions of one or more stratification parameters.  However, often in practice the desired outcome is to have a comparison group with similar usage patterns to a treatment group as measured through a load shape or similar set of time-series features.  To ensure that the load shapes are equivalent, you can use the `StratifiedSamplingBinSelector` which selects an optimal binning arrangement which minimizes load shape error between the treatment and comparison groups. \n",
    "\n",
    "In the following example, a bin selector is used to match on monthly load shapes.  "
   ]
  },
  {
   "cell_type": "code",
   "execution_count": null,
   "metadata": {},
   "outputs": [],
   "source": [
    "strat_col_settings = {\n",
    "    \"equivalence_method\": \"chisquare\",\n",
    "    \"min_n_bins\": 2,\n",
    "    \"max_n_bins\": 8,\n",
    "    \"stratification_column\": [{\n",
    "            \"column_name\": \"summer_usage\", \n",
    "            \"n_bins\": None, \n",
    "            \"min_value_allowed\": 3000, \n",
    "            \"max_value_allowed\": 6000, \n",
    "            \"fixed_width\": False\n",
    "        },\n",
    "        {\n",
    "            \"column_name\": \"winter_usage\",\n",
    "            \"n_bins\": None, \n",
    "            \"min_value_allowed\": 3000, \n",
    "            \"max_value_allowed\": 6000, \n",
    "            \"fixed_width\": False\n",
    "    }],\n",
    "    \"random_seed\": 1,\n",
    "}\n",
    "\n",
    "dss_settings = gm.distance_stratified_sampling_settings(**strat_col_settings)\n",
    "dss = gm.Stratified_Sampling(dss_settings)\n",
    "\n",
    "df_clusters2, df_treatment_weights2 = dss.get_comparison_group(treatment_data, pool_data)"
   ]
  },
  {
   "cell_type": "code",
   "execution_count": null,
   "metadata": {},
   "outputs": [],
   "source": [
    "dss.model_bin_selector.plot_records_based_equiv_average()"
   ]
  },
  {
   "cell_type": "markdown",
   "metadata": {},
   "source": [
    "The graph above shows the monthly load shape of the treatment group (red), the selected comparison group (black), other candidate comparison groups (blue), and the comparison pool (dots).  In this case, all of the candidates were a good match, so the selection process was probably unnecessary, however in more complex cases this method can be useful.  The final binning arrangement is available in the model object as follows:"
   ]
  },
  {
   "cell_type": "code",
   "execution_count": null,
   "metadata": {},
   "outputs": [],
   "source": [
    "dss.diagnostics().scatter()"
   ]
  },
  {
   "cell_type": "code",
   "execution_count": null,
   "metadata": {},
   "outputs": [],
   "source": [
    "dss.df_raw"
   ]
  },
  {
   "cell_type": "markdown",
   "metadata": {},
   "source": [
    "This concludes the tutorial.  For questions, comments, or issues, please raise a Github issue here:  \n",
    "https://github.com/recurve-methods/comparison_groups/issues\n",
    "\n",
    "We thank you for your interest and participation in this project and look forward to your feedback."
   ]
  }
 ],
 "metadata": {
  "kernelspec": {
   "display_name": "Python 3",
   "language": "python",
   "name": "python3"
  },
  "language_info": {
   "codemirror_mode": {
    "name": "ipython",
    "version": 3
   },
   "file_extension": ".py",
   "mimetype": "text/x-python",
   "name": "python",
   "nbconvert_exporter": "python",
   "pygments_lexer": "ipython3",
   "version": "3.11.4"
  }
 },
 "nbformat": 4,
 "nbformat_minor": 4
}
