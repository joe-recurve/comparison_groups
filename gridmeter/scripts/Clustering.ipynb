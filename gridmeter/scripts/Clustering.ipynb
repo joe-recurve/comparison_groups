{
 "cells": [
  {
   "cell_type": "code",
   "execution_count": 1,
   "metadata": {},
   "outputs": [],
   "source": [
    "import subprocess\n",
    "import sys\n",
    "\n",
    "for package in ['gridmeter', 'pandas', 'plotnine']:\n",
    "    try:\n",
    "        __import__(package)\n",
    "    except ImportError:\n",
    "        subprocess.check_call([sys.executable, \"-m\", \"pip\", \"install\", package])\n",
    "\n",
    "import numpy as np\n",
    "import pandas as pd\n",
    "import matplotlib.pyplot as plt\n",
    "import plotnine as pn\n",
    "import gridmeter as gm"
   ]
  },
  {
   "cell_type": "code",
   "execution_count": 2,
   "metadata": {},
   "outputs": [
    {
     "name": "stderr",
     "output_type": "stream",
     "text": [
      "INFO:root:Caching objects to .cache\n"
     ]
    }
   ],
   "source": [
    "# Loadshape and feature data\n",
    "\n",
    "n_treatment = 100\n",
    "n_pool = 1000\n",
    "\n",
    "filter = lambda df: df[(df.summer_usage > df.summer_usage.quantile(0.5)) & (df.winter_usage > df.winter_usage.quantile(0.5))]\n",
    "population = gm.DummyTreatmentPoolPopulation(n_treatment=n_treatment, n_pool=n_pool, \n",
    "                                              treatment_filter_function=filter)\n",
    "\n",
    "df_features= population.features()\n",
    "df_features_pool = df_features[df_features['set']=='pool']\n",
    "df_features_treatment = df_features[df_features['set']=='treatment']\n",
    "df_loadshape = population.features_monthly()\n",
    "\n",
    "df_features_pool = df_features_pool.rename(columns={'meter_id':'id'}).drop(columns=['set'])\n",
    "df_ls_pool = df_loadshape.loc[df_features_pool[\"id\"]]\n",
    "df_ls_pool = df_ls_pool.stack().reset_index().rename(columns={'meter_id':'id', 'month':'time', 0:'loadshape'})\n",
    "\n",
    "df_features_treatment = df_features_treatment.rename(columns={'meter_id':'id'}).drop(columns=['set'])\n",
    "df_ls_treatment = df_loadshape.loc[df_features_treatment[\"id\"]]\n",
    "df_ls_treatment = df_ls_treatment.stack().reset_index().rename(columns={'meter_id':'id', 'month':'time', 0:'loadshape'})\n",
    "\n",
    "# Fake time series data\n",
    "# Create a testing dataframe having an id, datetime of 1 month intervals, observed and modeled values \n",
    "num_intervals = 12  # 1 per month\n",
    "\n",
    "# Create a DataFrame with 'id', 'datetime', 'observed', and 'modeled' columns\n",
    "df_ts_treatment = pd.DataFrame({\n",
    "    'id': np.repeat(df_features_treatment[\"id\"].values, num_intervals),  # only 3 ids for easier comparison\n",
    "    'datetime': pd.date_range(start='2023-01-01', periods=num_intervals, freq='M').tolist() * n_treatment, \n",
    "    'observed': np.random.rand(num_intervals * n_treatment),  # randomized\n",
    "    'modeled': np.random.rand(num_intervals * n_treatment)  # randomized\n",
    "})"
   ]
  },
  {
   "cell_type": "code",
   "execution_count": 3,
   "metadata": {},
   "outputs": [
    {
     "data": {
      "text/plain": [
       "<gridmeter._utils.data_processing.Data at 0x7f477ee9da10>"
      ]
     },
     "execution_count": 3,
     "metadata": {},
     "output_type": "execute_result"
    }
   ],
   "source": [
    "# Set data classes\n",
    "# for the purposes of this tutorial, we'll set both loadshapes and features\n",
    "\n",
    "data_settings = gm.Data_Settings(AGG_TYPE=None, LOADSHAPE_TYPE=None, time_period=None)\n",
    "\n",
    "pool_data = gm.Data(data_settings)\n",
    "pool_data.set_data(loadshape_df=df_ls_pool, features_df=df_features_pool)\n",
    "\n",
    "treatment_data = gm.Data(data_settings)\n",
    "treatment_data.set_data(loadshape_df=df_ls_treatment, features_df=df_features_treatment)"
   ]
  },
  {
   "cell_type": "code",
   "execution_count": 4,
   "metadata": {},
   "outputs": [
    {
     "data": {
      "text/html": [
       "<div>\n",
       "<style scoped>\n",
       "    .dataframe tbody tr th:only-of-type {\n",
       "        vertical-align: middle;\n",
       "    }\n",
       "\n",
       "    .dataframe tbody tr th {\n",
       "        vertical-align: top;\n",
       "    }\n",
       "\n",
       "    .dataframe thead th {\n",
       "        text-align: right;\n",
       "    }\n",
       "</style>\n",
       "<table border=\"1\" class=\"dataframe\">\n",
       "  <thead>\n",
       "    <tr style=\"text-align: right;\">\n",
       "      <th></th>\n",
       "      <th>cluster</th>\n",
       "    </tr>\n",
       "    <tr>\n",
       "      <th>id</th>\n",
       "      <th></th>\n",
       "    </tr>\n",
       "  </thead>\n",
       "  <tbody>\n",
       "    <tr>\n",
       "      <th>meter_730</th>\n",
       "      <td>-1</td>\n",
       "    </tr>\n",
       "    <tr>\n",
       "      <th>meter_738</th>\n",
       "      <td>-1</td>\n",
       "    </tr>\n",
       "    <tr>\n",
       "      <th>meter_739</th>\n",
       "      <td>-1</td>\n",
       "    </tr>\n",
       "    <tr>\n",
       "      <th>meter_743</th>\n",
       "      <td>-1</td>\n",
       "    </tr>\n",
       "    <tr>\n",
       "      <th>meter_744</th>\n",
       "      <td>-1</td>\n",
       "    </tr>\n",
       "    <tr>\n",
       "      <th>...</th>\n",
       "      <td>...</td>\n",
       "    </tr>\n",
       "    <tr>\n",
       "      <th>meter_520</th>\n",
       "      <td>25</td>\n",
       "    </tr>\n",
       "    <tr>\n",
       "      <th>meter_805</th>\n",
       "      <td>25</td>\n",
       "    </tr>\n",
       "    <tr>\n",
       "      <th>meter_305</th>\n",
       "      <td>25</td>\n",
       "    </tr>\n",
       "    <tr>\n",
       "      <th>meter_82</th>\n",
       "      <td>25</td>\n",
       "    </tr>\n",
       "    <tr>\n",
       "      <th>meter_601</th>\n",
       "      <td>25</td>\n",
       "    </tr>\n",
       "  </tbody>\n",
       "</table>\n",
       "<p>1000 rows × 1 columns</p>\n",
       "</div>"
      ],
      "text/plain": [
       "           cluster\n",
       "id                \n",
       "meter_730       -1\n",
       "meter_738       -1\n",
       "meter_739       -1\n",
       "meter_743       -1\n",
       "meter_744       -1\n",
       "...            ...\n",
       "meter_520       25\n",
       "meter_805       25\n",
       "meter_305       25\n",
       "meter_82        25\n",
       "meter_601       25\n",
       "\n",
       "[1000 rows x 1 columns]"
      ]
     },
     "execution_count": 4,
     "metadata": {},
     "output_type": "execute_result"
    }
   ],
   "source": [
    "clustering_settings = gm.Clustering_Settings()\n",
    "df_cg, df_t_coeffs = gm.Clustering(clustering_settings).get_comparison_group(treatment_data, pool_data)\n",
    "df_cg"
   ]
  }
 ],
 "metadata": {
  "kernelspec": {
   "display_name": "Python 3",
   "language": "python",
   "name": "python3"
  },
  "language_info": {
   "codemirror_mode": {
    "name": "ipython",
    "version": 3
   },
   "file_extension": ".py",
   "mimetype": "text/x-python",
   "name": "python",
   "nbconvert_exporter": "python",
   "pygments_lexer": "ipython3",
   "version": "3.11.4"
  }
 },
 "nbformat": 4,
 "nbformat_minor": 4
}
